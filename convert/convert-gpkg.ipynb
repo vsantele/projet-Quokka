{
  "cells": [
    {
      "cell_type": "code",
      "execution_count": 15,
      "metadata": {},
      "outputs": [
        {
          "name": "stdout",
          "output_type": "stream",
          "text": [
            "Requirement already satisfied: geopandas in c:\\users\\victo\\miniconda3\\lib\\site-packages (0.14.0)\n",
            "Requirement already satisfied: matplotlib in c:\\users\\victo\\miniconda3\\lib\\site-packages (3.5.3)\n",
            "Collecting polars\n",
            "  Downloading polars-0.19.12-cp38-abi3-win_amd64.whl (24.2 MB)\n",
            "Requirement already satisfied: shapely>=1.8.0 in c:\\users\\victo\\miniconda3\\lib\\site-packages (from geopandas) (2.0.2)\n",
            "Requirement already satisfied: pyproj>=3.3.0 in c:\\users\\victo\\miniconda3\\lib\\site-packages (from geopandas) (3.6.1)\n",
            "Requirement already satisfied: pandas>=1.4.0 in c:\\users\\victo\\miniconda3\\lib\\site-packages (from geopandas) (2.1.2)\n",
            "Requirement already satisfied: packaging in c:\\users\\victo\\miniconda3\\lib\\site-packages (from geopandas) (23.2)\n",
            "Requirement already satisfied: fiona>=1.8.21 in c:\\users\\victo\\miniconda3\\lib\\site-packages (from geopandas) (1.9.5)\n",
            "Requirement already satisfied: click-plugins>=1.0 in c:\\users\\victo\\miniconda3\\lib\\site-packages (from fiona>=1.8.21->geopandas) (1.1.1)\n",
            "Requirement already satisfied: certifi in c:\\users\\victo\\miniconda3\\lib\\site-packages (from fiona>=1.8.21->geopandas) (2023.7.22)\n",
            "Requirement already satisfied: six in c:\\users\\victo\\miniconda3\\lib\\site-packages (from fiona>=1.8.21->geopandas) (1.16.0)\n",
            "Requirement already satisfied: attrs>=19.2.0 in c:\\users\\victo\\miniconda3\\lib\\site-packages (from fiona>=1.8.21->geopandas) (23.1.0)\n",
            "Requirement already satisfied: click~=8.0 in c:\\users\\victo\\miniconda3\\lib\\site-packages (from fiona>=1.8.21->geopandas) (8.1.7)\n",
            "Requirement already satisfied: cligj>=0.5 in c:\\users\\victo\\miniconda3\\lib\\site-packages (from fiona>=1.8.21->geopandas) (0.7.2)\n",
            "Requirement already satisfied: importlib-metadata in c:\\users\\victo\\miniconda3\\lib\\site-packages (from fiona>=1.8.21->geopandas) (6.8.0)\n",
            "Requirement already satisfied: setuptools in c:\\users\\victo\\miniconda3\\lib\\site-packages (from fiona>=1.8.21->geopandas) (52.0.0.post20210125)\n",
            "Requirement already satisfied: colorama in c:\\users\\victo\\miniconda3\\lib\\site-packages (from click~=8.0->fiona>=1.8.21->geopandas) (0.4.6)\n",
            "Requirement already satisfied: python-dateutil>=2.8.2 in c:\\users\\victo\\miniconda3\\lib\\site-packages (from pandas>=1.4.0->geopandas) (2.8.2)\n",
            "Requirement already satisfied: pytz>=2020.1 in c:\\users\\victo\\miniconda3\\lib\\site-packages (from pandas>=1.4.0->geopandas) (2023.3.post1)\n",
            "Requirement already satisfied: tzdata>=2022.1 in c:\\users\\victo\\miniconda3\\lib\\site-packages (from pandas>=1.4.0->geopandas) (2023.3)\n",
            "Requirement already satisfied: numpy<2,>=1.22.4 in c:\\users\\victo\\miniconda3\\lib\\site-packages (from pandas>=1.4.0->geopandas) (1.26.1)\n",
            "Requirement already satisfied: cycler>=0.10 in c:\\users\\victo\\miniconda3\\lib\\site-packages (from matplotlib) (0.12.1)\n",
            "Requirement already satisfied: pyparsing>=2.2.1 in c:\\users\\victo\\miniconda3\\lib\\site-packages (from matplotlib) (3.1.1)\n",
            "Requirement already satisfied: kiwisolver>=1.0.1 in c:\\users\\victo\\miniconda3\\lib\\site-packages (from matplotlib) (1.4.4)\n",
            "Requirement already satisfied: fonttools>=4.22.0 in c:\\users\\victo\\miniconda3\\lib\\site-packages (from matplotlib) (4.25.0)\n",
            "Requirement already satisfied: pillow>=6.2.0 in c:\\users\\victo\\miniconda3\\lib\\site-packages (from matplotlib) (10.1.0)\n",
            "Requirement already satisfied: zipp>=0.5 in c:\\users\\victo\\miniconda3\\lib\\site-packages (from importlib-metadata->fiona>=1.8.21->geopandas) (3.17.0)\n",
            "Installing collected packages: polars\n",
            "Successfully installed polars-0.19.12\n",
            "Note: you may need to restart the kernel to use updated packages.\n"
          ]
        }
      ],
      "source": [
        "%pip install geopandas matplotlib polars"
      ]
    },
    {
      "cell_type": "code",
      "execution_count": 2,
      "metadata": {},
      "outputs": [],
      "source": [
        "import geopandas as gpd"
      ]
    },
    {
      "cell_type": "code",
      "execution_count": 3,
      "metadata": {},
      "outputs": [],
      "source": [
        "base_path = \"../data/raw/\""
      ]
    },
    {
      "cell_type": "code",
      "execution_count": 12,
      "metadata": {},
      "outputs": [
        {
          "name": "stdout",
          "output_type": "stream",
          "text": [
            "['../data/raw\\\\OFFRES_TOURISTIQUES.gpkg', '../data/raw\\\\poi_economy_4326.gpkg', '../data/raw\\\\poi_elementsofgeneralinterest_4326.gpkg', '../data/raw\\\\poi_infrastructures_4326.gpkg', '../data/raw\\\\poi_naturalelements_4326.gpkg', '../data/raw\\\\poi_patimonialelements_4326.gpkg', '../data/raw\\\\poi_religiouselements_4326.gpkg']\n"
          ]
        }
      ],
      "source": [
        "import glob\n",
        "\n",
        "gpkg_files = glob.glob(base_path + \"*.gpkg\")\n",
        "print(gpkg_files)\n"
      ]
    },
    {
      "cell_type": "code",
      "execution_count": 13,
      "metadata": {},
      "outputs": [
        {
          "name": "stdout",
          "output_type": "stream",
          "text": [
            "../data/raw\\OFFRES_TOURISTIQUES.gpkg\n",
            "../data/raw\\poi_economy_4326.gpkg\n",
            "../data/raw\\poi_elementsofgeneralinterest_4326.gpkg\n",
            "../data/raw\\poi_infrastructures_4326.gpkg\n",
            "../data/raw\\poi_naturalelements_4326.gpkg\n",
            "../data/raw\\poi_patimonialelements_4326.gpkg\n",
            "../data/raw\\poi_religiouselements_4326.gpkg\n"
          ]
        }
      ],
      "source": [
        "for f in gpkg_files:\n",
        "    print(f)\n",
        "    gpd.read_file(f).to_parquet(f.replace(\".gpkg\", \".parquet\"))"
      ]
    },
    {
      "cell_type": "code",
      "execution_count": 22,
      "metadata": {},
      "outputs": [],
      "source": [
        "import polars as pl\n",
        "\n",
        "df = pl.read_parquet(gpkg_files[1].replace(\".gpkg\", \".parquet\"))"
      ]
    },
    {
      "cell_type": "code",
      "execution_count": 30,
      "metadata": {},
      "outputs": [
        {
          "data": {
            "text/html": [
              "<div><style>\n",
              ".dataframe > thead > tr > th,\n",
              ".dataframe > tbody > tr > td {\n",
              "  text-align: right;\n",
              "  white-space: pre-wrap;\n",
              "}\n",
              "</style>\n",
              "<small>shape: (5_568, 9)</small><table border=\"1\" class=\"dataframe\"><thead><tr><th>row_nr</th><th>class</th><th>type</th><th>subtype</th><th>function</th><th>status</th><th>modifdate</th><th>tgid</th><th>geometry</th></tr><tr><td>u32</td><td>i64</td><td>i64</td><td>i64</td><td>i64</td><td>i64</td><td>datetime[ns]</td><td>str</td><td>binary</td></tr></thead><tbody><tr><td>0</td><td>800</td><td>832</td><td>8321</td><td>6</td><td>10</td><td>2020-08-17 00:00:00</td><td>&quot;{315FC825-8A44…</td><td>[binary data]</td></tr><tr><td>1</td><td>800</td><td>832</td><td>8321</td><td>6</td><td>9</td><td>2013-06-12 00:00:00</td><td>&quot;{F813ECA9-48B6…</td><td>[binary data]</td></tr><tr><td>2</td><td>800</td><td>832</td><td>8321</td><td>6</td><td>10</td><td>2021-09-15 00:00:00</td><td>&quot;{E19BD36A-6599…</td><td>[binary data]</td></tr><tr><td>3</td><td>800</td><td>832</td><td>8321</td><td>6</td><td>9</td><td>2021-09-15 00:00:00</td><td>&quot;{0DF59758-461A…</td><td>[binary data]</td></tr><tr><td>4</td><td>800</td><td>832</td><td>8321</td><td>6</td><td>10</td><td>2021-09-15 00:00:00</td><td>&quot;{03A42CF4-CC6C…</td><td>[binary data]</td></tr><tr><td>5</td><td>800</td><td>832</td><td>8321</td><td>6</td><td>10</td><td>2020-08-19 00:00:00</td><td>&quot;{ABF569B7-E41A…</td><td>[binary data]</td></tr><tr><td>6</td><td>800</td><td>832</td><td>8321</td><td>6</td><td>9</td><td>2022-07-28 00:00:00</td><td>&quot;{8F430B74-2E38…</td><td>[binary data]</td></tr><tr><td>7</td><td>800</td><td>832</td><td>8321</td><td>6</td><td>10</td><td>2022-07-28 00:00:00</td><td>&quot;{9C7BDAAD-BBA2…</td><td>[binary data]</td></tr><tr><td>8</td><td>800</td><td>832</td><td>8322</td><td>6</td><td>10</td><td>2020-08-31 00:00:00</td><td>&quot;{BE5C0CDA-6287…</td><td>[binary data]</td></tr><tr><td>9</td><td>800</td><td>832</td><td>8322</td><td>6</td><td>10</td><td>2020-08-14 00:00:00</td><td>&quot;{1B2620D7-8B63…</td><td>[binary data]</td></tr><tr><td>10</td><td>800</td><td>832</td><td>8322</td><td>6</td><td>10</td><td>2022-01-28 00:00:00</td><td>&quot;{61BD347C-F951…</td><td>[binary data]</td></tr><tr><td>11</td><td>800</td><td>832</td><td>8322</td><td>6</td><td>10</td><td>2023-07-25 00:00:00</td><td>&quot;{BFD6271C-F33E…</td><td>[binary data]</td></tr><tr><td>&hellip;</td><td>&hellip;</td><td>&hellip;</td><td>&hellip;</td><td>&hellip;</td><td>&hellip;</td><td>&hellip;</td><td>&hellip;</td><td>&hellip;</td></tr><tr><td>5556</td><td>800</td><td>832</td><td>8321</td><td>6</td><td>10</td><td>2020-07-13 00:00:00</td><td>&quot;{379C7FBC-ACB6…</td><td>[binary data]</td></tr><tr><td>5557</td><td>800</td><td>832</td><td>8321</td><td>6</td><td>10</td><td>2020-07-13 00:00:00</td><td>&quot;{B7B179C0-F938…</td><td>[binary data]</td></tr><tr><td>5558</td><td>800</td><td>832</td><td>8321</td><td>6</td><td>4</td><td>2020-07-13 00:00:00</td><td>&quot;{102FED66-0FFE…</td><td>[binary data]</td></tr><tr><td>5559</td><td>800</td><td>832</td><td>8321</td><td>6</td><td>10</td><td>2020-07-13 00:00:00</td><td>&quot;{7E9F1C59-2A02…</td><td>[binary data]</td></tr><tr><td>5560</td><td>800</td><td>832</td><td>8321</td><td>6</td><td>10</td><td>2020-09-02 00:00:00</td><td>&quot;{E8661CC4-E4AC…</td><td>[binary data]</td></tr><tr><td>5561</td><td>800</td><td>832</td><td>8321</td><td>6</td><td>10</td><td>2020-09-02 00:00:00</td><td>&quot;{3A821DB3-6BC8…</td><td>[binary data]</td></tr><tr><td>5562</td><td>800</td><td>832</td><td>8321</td><td>6</td><td>9</td><td>2021-02-11 00:00:00</td><td>&quot;{37525CC8-9891…</td><td>[binary data]</td></tr><tr><td>5563</td><td>800</td><td>832</td><td>8321</td><td>6</td><td>10</td><td>2020-07-27 00:00:00</td><td>&quot;{56DB106F-0759…</td><td>[binary data]</td></tr><tr><td>5564</td><td>800</td><td>832</td><td>8321</td><td>6</td><td>10</td><td>2020-07-27 00:00:00</td><td>&quot;{714F3F82-CBE8…</td><td>[binary data]</td></tr><tr><td>5565</td><td>800</td><td>832</td><td>8321</td><td>6</td><td>10</td><td>2020-07-27 00:00:00</td><td>&quot;{F0A4B375-DEF9…</td><td>[binary data]</td></tr><tr><td>5566</td><td>800</td><td>832</td><td>8321</td><td>6</td><td>10</td><td>2020-07-27 00:00:00</td><td>&quot;{3FE4F9D1-20A4…</td><td>[binary data]</td></tr><tr><td>5567</td><td>800</td><td>832</td><td>8321</td><td>6</td><td>10</td><td>2015-11-05 00:00:00</td><td>&quot;{EBF24550-8278…</td><td>[binary data]</td></tr></tbody></table></div>"
            ],
            "text/plain": [
              "shape: (5_568, 9)\n",
              "┌────────┬───────┬──────┬─────────┬───┬────────┬──────────────┬────────────────────┬───────────────┐\n",
              "│ row_nr ┆ class ┆ type ┆ subtype ┆ … ┆ status ┆ modifdate    ┆ tgid               ┆ geometry      │\n",
              "│ ---    ┆ ---   ┆ ---  ┆ ---     ┆   ┆ ---    ┆ ---          ┆ ---                ┆ ---           │\n",
              "│ u32    ┆ i64   ┆ i64  ┆ i64     ┆   ┆ i64    ┆ datetime[ns] ┆ str                ┆ binary        │\n",
              "╞════════╪═══════╪══════╪═════════╪═══╪════════╪══════════════╪════════════════════╪═══════════════╡\n",
              "│ 0      ┆ 800   ┆ 832  ┆ 8321    ┆ … ┆ 10     ┆ 2020-08-17   ┆ {315FC825-8A44-4DF ┆ [binary data] │\n",
              "│        ┆       ┆      ┆         ┆   ┆        ┆ 00:00:00     ┆ 5-B754-A78BF53…    ┆               │\n",
              "│ 1      ┆ 800   ┆ 832  ┆ 8321    ┆ … ┆ 9      ┆ 2013-06-12   ┆ {F813ECA9-48B6-4E9 ┆ [binary data] │\n",
              "│        ┆       ┆      ┆         ┆   ┆        ┆ 00:00:00     ┆ 0-B22B-FB37831…    ┆               │\n",
              "│ 2      ┆ 800   ┆ 832  ┆ 8321    ┆ … ┆ 10     ┆ 2021-09-15   ┆ {E19BD36A-6599-418 ┆ [binary data] │\n",
              "│        ┆       ┆      ┆         ┆   ┆        ┆ 00:00:00     ┆ 1-900A-DB959C8…    ┆               │\n",
              "│ 3      ┆ 800   ┆ 832  ┆ 8321    ┆ … ┆ 9      ┆ 2021-09-15   ┆ {0DF59758-461A-4BF ┆ [binary data] │\n",
              "│        ┆       ┆      ┆         ┆   ┆        ┆ 00:00:00     ┆ 3-A21C-8D40A54…    ┆               │\n",
              "│ …      ┆ …     ┆ …    ┆ …       ┆ … ┆ …      ┆ …            ┆ …                  ┆ …             │\n",
              "│ 5564   ┆ 800   ┆ 832  ┆ 8321    ┆ … ┆ 10     ┆ 2020-07-27   ┆ {714F3F82-CBE8-480 ┆ [binary data] │\n",
              "│        ┆       ┆      ┆         ┆   ┆        ┆ 00:00:00     ┆ 2-97B4-F7065CB…    ┆               │\n",
              "│ 5565   ┆ 800   ┆ 832  ┆ 8321    ┆ … ┆ 10     ┆ 2020-07-27   ┆ {F0A4B375-DEF9-45C ┆ [binary data] │\n",
              "│        ┆       ┆      ┆         ┆   ┆        ┆ 00:00:00     ┆ A-9930-DE56D46…    ┆               │\n",
              "│ 5566   ┆ 800   ┆ 832  ┆ 8321    ┆ … ┆ 10     ┆ 2020-07-27   ┆ {3FE4F9D1-20A4-473 ┆ [binary data] │\n",
              "│        ┆       ┆      ┆         ┆   ┆        ┆ 00:00:00     ┆ 0-9E7C-DAC7BD6…    ┆               │\n",
              "│ 5567   ┆ 800   ┆ 832  ┆ 8321    ┆ … ┆ 10     ┆ 2015-11-05   ┆ {EBF24550-8278-411 ┆ [binary data] │\n",
              "│        ┆       ┆      ┆         ┆   ┆        ┆ 00:00:00     ┆ 2-A60C-866CCC8…    ┆               │\n",
              "└────────┴───────┴──────┴─────────┴───┴────────┴──────────────┴────────────────────┴───────────────┘"
            ]
          },
          "execution_count": 30,
          "metadata": {},
          "output_type": "execute_result"
        }
      ],
      "source": [
        "df.with_row_count()"
      ]
    },
    {
      "cell_type": "code",
      "execution_count": 32,
      "metadata": {},
      "outputs": [
        {
          "name": "stdout",
          "output_type": "stream",
          "text": [
            "../data/raw\\OFFRES_TOURISTIQUES.gpkg\n",
            "../data/raw\\poi_economy_4326.gpkg\n",
            "../data/raw\\poi_elementsofgeneralinterest_4326.gpkg\n",
            "../data/raw\\poi_infrastructures_4326.gpkg\n",
            "../data/raw\\poi_naturalelements_4326.gpkg\n",
            "../data/raw\\poi_patimonialelements_4326.gpkg\n",
            "../data/raw\\poi_religiouselements_4326.gpkg\n",
            "47627\n"
          ]
        }
      ],
      "source": [
        "row_count = 0\n",
        "for f in gpkg_files:\n",
        "    print(f)\n",
        "    df = pl.read_parquet(f.replace(\".gpkg\", \".parquet\"))\n",
        "    row_count += df.shape[0]\n",
        "print(row_count)\n"
      ]
    },
    {
      "cell_type": "code",
      "execution_count": 33,
      "metadata": {},
      "outputs": [
        {
          "data": {
            "text/html": [
              "<div><style>\n",
              ".dataframe > thead > tr > th,\n",
              ".dataframe > tbody > tr > td {\n",
              "  text-align: right;\n",
              "  white-space: pre-wrap;\n",
              "}\n",
              "</style>\n",
              "<small>shape: (9, 9)</small><table border=\"1\" class=\"dataframe\"><thead><tr><th>describe</th><th>fid</th><th>class</th><th>type</th><th>function</th><th>status</th><th>modifdate</th><th>tgid</th><th>geometry</th></tr><tr><td>str</td><td>f64</td><td>f64</td><td>f64</td><td>f64</td><td>f64</td><td>str</td><td>str</td><td>str</td></tr></thead><tbody><tr><td>&quot;count&quot;</td><td>90.0</td><td>90.0</td><td>90.0</td><td>90.0</td><td>90.0</td><td>&quot;90&quot;</td><td>&quot;90&quot;</td><td>&quot;90&quot;</td></tr><tr><td>&quot;null_count&quot;</td><td>0.0</td><td>0.0</td><td>0.0</td><td>0.0</td><td>0.0</td><td>&quot;0&quot;</td><td>&quot;0&quot;</td><td>&quot;0&quot;</td></tr><tr><td>&quot;mean&quot;</td><td>45.5</td><td>400.0</td><td>485.0</td><td>2.0</td><td>14.244444</td><td>null</td><td>null</td><td>null</td></tr><tr><td>&quot;std&quot;</td><td>26.124701</td><td>0.0</td><td>0.0</td><td>0.0</td><td>105.362329</td><td>null</td><td>null</td><td>null</td></tr><tr><td>&quot;min&quot;</td><td>1.0</td><td>400.0</td><td>485.0</td><td>2.0</td><td>1.0</td><td>&quot;2018-10-29 00:…</td><td>&quot;{032AD94B-9F59…</td><td>&quot;b&#x27;\\x01\\xe9\\x03…</td></tr><tr><td>&quot;25%&quot;</td><td>23.0</td><td>400.0</td><td>485.0</td><td>2.0</td><td>1.0</td><td>null</td><td>null</td><td>null</td></tr><tr><td>&quot;50%&quot;</td><td>46.0</td><td>400.0</td><td>485.0</td><td>2.0</td><td>3.0</td><td>null</td><td>null</td><td>null</td></tr><tr><td>&quot;75%&quot;</td><td>68.0</td><td>400.0</td><td>485.0</td><td>2.0</td><td>3.0</td><td>null</td><td>null</td><td>null</td></tr><tr><td>&quot;max&quot;</td><td>90.0</td><td>400.0</td><td>485.0</td><td>2.0</td><td>1000.0</td><td>&quot;2023-06-16 00:…</td><td>&quot;{FEEC8541-A132…</td><td>&quot;b&#x27;\\x01\\xe9\\x03…</td></tr></tbody></table></div>"
            ],
            "text/plain": [
              "shape: (9, 9)\n",
              "┌────────────┬───────────┬───────┬───────┬───┬────────────┬─────────────┬─────────────┬────────────┐\n",
              "│ describe   ┆ fid       ┆ class ┆ type  ┆ … ┆ status     ┆ modifdate   ┆ tgid        ┆ geometry   │\n",
              "│ ---        ┆ ---       ┆ ---   ┆ ---   ┆   ┆ ---        ┆ ---         ┆ ---         ┆ ---        │\n",
              "│ str        ┆ f64       ┆ f64   ┆ f64   ┆   ┆ f64        ┆ str         ┆ str         ┆ str        │\n",
              "╞════════════╪═══════════╪═══════╪═══════╪═══╪════════════╪═════════════╪═════════════╪════════════╡\n",
              "│ count      ┆ 90.0      ┆ 90.0  ┆ 90.0  ┆ … ┆ 90.0       ┆ 90          ┆ 90          ┆ 90         │\n",
              "│ null_count ┆ 0.0       ┆ 0.0   ┆ 0.0   ┆ … ┆ 0.0        ┆ 0           ┆ 0           ┆ 0          │\n",
              "│ mean       ┆ 45.5      ┆ 400.0 ┆ 485.0 ┆ … ┆ 14.244444  ┆ null        ┆ null        ┆ null       │\n",
              "│ std        ┆ 26.124701 ┆ 0.0   ┆ 0.0   ┆ … ┆ 105.362329 ┆ null        ┆ null        ┆ null       │\n",
              "│ min        ┆ 1.0       ┆ 400.0 ┆ 485.0 ┆ … ┆ 1.0        ┆ 2018-10-29  ┆ {032AD94B-9 ┆ b'\\x01\\xe9 │\n",
              "│            ┆           ┆       ┆       ┆   ┆            ┆ 00:00:00    ┆ F59-4EFF-B0 ┆ \\x03\\x00\\x │\n",
              "│            ┆           ┆       ┆       ┆   ┆            ┆             ┆ 13-BE19D45… ┆ 00\\x04KT\\x │\n",
              "│            ┆           ┆       ┆       ┆   ┆            ┆             ┆             ┆ 10…        │\n",
              "│ 25%        ┆ 23.0      ┆ 400.0 ┆ 485.0 ┆ … ┆ 1.0        ┆ null        ┆ null        ┆ null       │\n",
              "│ 50%        ┆ 46.0      ┆ 400.0 ┆ 485.0 ┆ … ┆ 3.0        ┆ null        ┆ null        ┆ null       │\n",
              "│ 75%        ┆ 68.0      ┆ 400.0 ┆ 485.0 ┆ … ┆ 3.0        ┆ null        ┆ null        ┆ null       │\n",
              "│ max        ┆ 90.0      ┆ 400.0 ┆ 485.0 ┆ … ┆ 1000.0     ┆ 2023-06-16  ┆ {FEEC8541-A ┆ b'\\x01\\xe9 │\n",
              "│            ┆           ┆       ┆       ┆   ┆            ┆ 00:00:00    ┆ 132-49B2-8C ┆ \\x03\\x00\\x │\n",
              "│            ┆           ┆       ┆       ┆   ┆            ┆             ┆ 42-4EC95AF… ┆ 00\\xfd\\xd4 │\n",
              "│            ┆           ┆       ┆       ┆   ┆            ┆             ┆             ┆ Qi…        │\n",
              "└────────────┴───────────┴───────┴───────┴───┴────────────┴─────────────┴─────────────┴────────────┘"
            ]
          },
          "execution_count": 33,
          "metadata": {},
          "output_type": "execute_result"
        }
      ],
      "source": [
        "df = pl.read_parquet(\"../data/patrimoineGeo.parquet\")\n",
        "df.describe()"
      ]
    },
    {
      "cell_type": "code",
      "execution_count": 34,
      "metadata": {},
      "outputs": [
        {
          "data": {
            "text/html": [
              "<div><style>\n",
              ".dataframe > thead > tr > th,\n",
              ".dataframe > tbody > tr > td {\n",
              "  text-align: right;\n",
              "  white-space: pre-wrap;\n",
              "}\n",
              "</style>\n",
              "<small>shape: (5, 8)</small><table border=\"1\" class=\"dataframe\"><thead><tr><th>fid</th><th>class</th><th>type</th><th>function</th><th>status</th><th>modifdate</th><th>tgid</th><th>geometry</th></tr><tr><td>i64</td><td>i32</td><td>i32</td><td>i32</td><td>i32</td><td>datetime[ms]</td><td>str</td><td>binary</td></tr></thead><tbody><tr><td>1</td><td>400</td><td>485</td><td>2</td><td>1</td><td>2021-09-28 00:00:00</td><td>&quot;{910FE02E-2160…</td><td>[binary data]</td></tr><tr><td>2</td><td>400</td><td>485</td><td>2</td><td>1</td><td>2021-09-28 00:00:00</td><td>&quot;{6A1DCA34-50D9…</td><td>[binary data]</td></tr><tr><td>3</td><td>400</td><td>485</td><td>2</td><td>1</td><td>2020-11-16 00:00:00</td><td>&quot;{F0E17CD7-6629…</td><td>[binary data]</td></tr><tr><td>4</td><td>400</td><td>485</td><td>2</td><td>54</td><td>2022-09-14 00:00:00</td><td>&quot;{E71AE446-DA4D…</td><td>[binary data]</td></tr><tr><td>5</td><td>400</td><td>485</td><td>2</td><td>3</td><td>2020-09-17 00:00:00</td><td>&quot;{49EA7BCA-FCE2…</td><td>[binary data]</td></tr></tbody></table></div>"
            ],
            "text/plain": [
              "shape: (5, 8)\n",
              "┌─────┬───────┬──────┬──────────┬────────┬──────────────┬──────────────────────────┬───────────────┐\n",
              "│ fid ┆ class ┆ type ┆ function ┆ status ┆ modifdate    ┆ tgid                     ┆ geometry      │\n",
              "│ --- ┆ ---   ┆ ---  ┆ ---      ┆ ---    ┆ ---          ┆ ---                      ┆ ---           │\n",
              "│ i64 ┆ i32   ┆ i32  ┆ i32      ┆ i32    ┆ datetime[ms] ┆ str                      ┆ binary        │\n",
              "╞═════╪═══════╪══════╪══════════╪════════╪══════════════╪══════════════════════════╪═══════════════╡\n",
              "│ 1   ┆ 400   ┆ 485  ┆ 2        ┆ 1      ┆ 2021-09-28   ┆ {910FE02E-2160-4CDA-98BA ┆ [binary data] │\n",
              "│     ┆       ┆      ┆          ┆        ┆ 00:00:00     ┆ -2C43B4A…                ┆               │\n",
              "│ 2   ┆ 400   ┆ 485  ┆ 2        ┆ 1      ┆ 2021-09-28   ┆ {6A1DCA34-50D9-4E15-8A34 ┆ [binary data] │\n",
              "│     ┆       ┆      ┆          ┆        ┆ 00:00:00     ┆ -D959698…                ┆               │\n",
              "│ 3   ┆ 400   ┆ 485  ┆ 2        ┆ 1      ┆ 2020-11-16   ┆ {F0E17CD7-6629-484A-B50A ┆ [binary data] │\n",
              "│     ┆       ┆      ┆          ┆        ┆ 00:00:00     ┆ -1BF6C4E…                ┆               │\n",
              "│ 4   ┆ 400   ┆ 485  ┆ 2        ┆ 54     ┆ 2022-09-14   ┆ {E71AE446-DA4D-4DEA-81C4 ┆ [binary data] │\n",
              "│     ┆       ┆      ┆          ┆        ┆ 00:00:00     ┆ -8B819DA…                ┆               │\n",
              "│ 5   ┆ 400   ┆ 485  ┆ 2        ┆ 3      ┆ 2020-09-17   ┆ {49EA7BCA-FCE2-4151-A018 ┆ [binary data] │\n",
              "│     ┆       ┆      ┆          ┆        ┆ 00:00:00     ┆ -5858C4A…                ┆               │\n",
              "└─────┴───────┴──────┴──────────┴────────┴──────────────┴──────────────────────────┴───────────────┘"
            ]
          },
          "execution_count": 34,
          "metadata": {},
          "output_type": "execute_result"
        }
      ],
      "source": [
        "df.head()"
      ]
    }
  ],
  "metadata": {
    "kernelspec": {
      "display_name": "Python 3",
      "language": "python",
      "name": "python3"
    },
    "language_info": {
      "codemirror_mode": {
        "name": "ipython",
        "version": 3
      },
      "file_extension": ".py",
      "mimetype": "text/x-python",
      "name": "python",
      "nbconvert_exporter": "python",
      "pygments_lexer": "ipython3",
      "version": "3.9.5"
    }
  },
  "nbformat": 4,
  "nbformat_minor": 2
}
