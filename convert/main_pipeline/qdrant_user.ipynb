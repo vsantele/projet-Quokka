{
 "cells": [
  {
   "cell_type": "code",
   "execution_count": 41,
   "metadata": {},
   "outputs": [
    {
     "name": "stdout",
     "output_type": "stream",
     "text": [
      "Installing requirements....\n"
     ]
    }
   ],
   "source": [
    "print(\"Installing requirements....\")"
   ]
  },
  {
   "cell_type": "code",
   "execution_count": 42,
   "metadata": {},
   "outputs": [
    {
     "name": "stdout",
     "output_type": "stream",
     "text": [
      "Requirement already satisfied: faker in c:\\users\\hp\\anaconda3\\lib\\site-packages (20.0.3)\n",
      "Requirement already satisfied: python-dateutil>=2.4 in c:\\users\\hp\\appdata\\roaming\\python\\python39\\site-packages (from faker) (2.8.2)\n",
      "Requirement already satisfied: six>=1.5 in c:\\users\\hp\\appdata\\roaming\\python\\python39\\site-packages (from python-dateutil>=2.4->faker) (1.16.0)\n",
      "Note: you may need to restart the kernel to use updated packages.\n"
     ]
    }
   ],
   "source": [
    "%pip install faker"
   ]
  },
  {
   "cell_type": "code",
   "execution_count": 43,
   "metadata": {},
   "outputs": [],
   "source": [
    "import pandas as pd\n",
    "from faker import Faker\n",
    "import random\n",
    "from qdrant_client import models, QdrantClient\n",
    "from sentence_transformers import SentenceTransformer\n",
    "import polars as pl\n",
    "import numpy as np\n",
    "import pyarrow.parquet as pq\n",
    "import uuid\n"
   ]
  },
  {
   "cell_type": "code",
   "execution_count": 44,
   "metadata": {},
   "outputs": [],
   "source": [
    "def init_profil():\n",
    "    df_profil = [\n",
    "        {\n",
    "            \"Nom\": \"Fan de la nature\",\n",
    "            \"pos\": [161902431, 6256757776, 5771053254, 8731063849, 9609413254, 8615466894, 9356148774, 304351397, 304374138],\n",
    "            \"neg\": [304850843, 9964615559, 6264550437, 2514192427, 11186120804, 9663434784]\n",
    "        },\n",
    "        {\n",
    "            \"Nom\": \"Historique (médieval)\",\n",
    "            \"pos\": [9964615559, 2080454089, 8309291920, 9767828163, 10815282268, 11006240930, 6635074831, 205161375, 312031207, 9964615559],\n",
    "            \"neg\": [267878387, 6264550437, 6256757776, 304882303, 310235557]\n",
    "        },\n",
    "        {\n",
    "            \"Nom\": \"Monument typique (Grand lieu)\",\n",
    "            \"pos\": [6580307576, 249292417, 267878387],\n",
    "            \"neg\": [8731063849, 8731063849, 6635074831, 9767828163]\n",
    "        },\n",
    "        {\n",
    "            \"Nom\": \"Historique (19,20ème)\",\n",
    "            \"pos\": [267878387, 6264550437, 2514258897, 2084125343, 407714718, 34050681, 271394429, 310235557, 368996291, 393969161],\n",
    "            \"neg\": [312415707, 291231959, 9356148774, 11186120804, 6256757776, 34050692, 304374138]\n",
    "        },\n",
    "        {\n",
    "            \"Nom\": \"Artistique\",\n",
    "            \"pos\": [2514192427, 9663434784, 251316201, 11186120804, 291231959],\n",
    "            \"neg\": [9356148774, 407714718, 11006240930, 9964615559, 310235557, 393969161]\n",
    "        },\n",
    "        {\n",
    "            \"Nom\": \"Antiquité\",\n",
    "            \"pos\": [4729709152, 874341418, 9864187809, 34050692],\n",
    "            \"neg\": [267878387, 9609413254, 271394429, 6635074831, 6580307576]\n",
    "        },\n",
    "        {\n",
    "            \"Nom\": \"Fan de musée\",\n",
    "            \"pos\": [34050681, 393969161, 34050692, 160079640, 251316201, 252382829, 291231959, 311512162, 34050692],\n",
    "            \"neg\": [9609413254, 6580307576, 2084125343, 407714718]\n",
    "        },\n",
    "        {\n",
    "            \"Nom\": \"Histoire (général)\",\n",
    "            \"pos\": [251316201, 252382829, 258816379, 291232006, 304882303, 310235557],\n",
    "            \"neg\": [6256757776, 5771053254, 2514192427, 6580307576]\n",
    "        },\n",
    "        {\n",
    "            \"Nom\": \"Religieux\",\n",
    "            \"pos\": [251466390, 304850843, 307675986, 304850843],\n",
    "            \"neg\": [251316201]\n",
    "        }\n",
    "    ]\n",
    "    df_profil = pd.DataFrame(df_profil)\n",
    "    return df_profil\n"
   ]
  },
  {
   "cell_type": "code",
   "execution_count": null,
   "metadata": {},
   "outputs": [],
   "source": []
  },
  {
   "cell_type": "code",
   "execution_count": 45,
   "metadata": {},
   "outputs": [],
   "source": [
    "def init_user(df_profil):\n",
    "    # Initialisation de Faker\n",
    "    fake = Faker()\n",
    "\n",
    "    nb_profil = 9\n",
    "    # Génération de 20 profils aléatoires avec noms et prénoms\n",
    "    noms = [fake.last_name() for _ in range(nb_profil)]\n",
    "    prenoms = [fake.first_name() for _ in range(nb_profil)]\n",
    "    profils_aleatoires = [df_profil['Nom'][i] for i in range(nb_profil)]\n",
    "    ids = [i for i in range(nb_profil)]\n",
    "\n",
    "    # Création du DataFrame\n",
    "    df_user = pd.DataFrame({\n",
    "        \"Id\": ids,\n",
    "        \"Nom\": noms,\n",
    "        \"Prénom\": prenoms,\n",
    "        \"Profil\": profils_aleatoires\n",
    "    })\n",
    "\n",
    "    # Ajout des points positifs (pos) et négatifs (neg) pour chaque profil\n",
    "    df_user[\"Pos\"] = df_user[\"Profil\"].apply(lambda x: df_profil[df_profil[\"Nom\"] == x][\"pos\"].values[0])\n",
    "    df_user[\"Neg\"] = df_user[\"Profil\"].apply(lambda x: df_profil[df_profil[\"Nom\"] == x][\"neg\"].values[0])\n",
    "\n",
    "    return df_user\n",
    "\n"
   ]
  },
  {
   "cell_type": "code",
   "execution_count": 46,
   "metadata": {},
   "outputs": [],
   "source": [
    "def add_quokka(df_user, pos, neg):\n",
    "    # Ajout du user 10 (Quokka)\n",
    "    df_user = df_user.append({\n",
    "        \"Id\": 10,\n",
    "        \"Nom\": \"Quokka\",\n",
    "        \"Prénom\": \"Quokka\",\n",
    "        \"Profil\": \"\",  # Mettez le profil approprié pour Quokka\n",
    "        \"Pos\": pos,  # Mettez les points positifs appropriés pour Quokka\n",
    "        \"Neg\": neg  # Mettez les points négatifs appropriés pour Quokka\n",
    "    }, ignore_index=True)\n",
    "    return df_user\n"
   ]
  },
  {
   "cell_type": "code",
   "execution_count": 47,
   "metadata": {},
   "outputs": [],
   "source": [
    "\n",
    "def init_poi_data():\n",
    "    df_geo = pl.read_parquet(\"../../data/transformed/poi_clean_category_geo.parquet\")\n",
    "    df_poi_pl = df_geo.drop([\"type\", \"geometry\"])\n",
    "    df_poi = df_poi_pl.to_pandas()\n",
    "    df_poi.head()\n",
    "    return df_poi\n"
   ]
  },
  {
   "cell_type": "code",
   "execution_count": 48,
   "metadata": {},
   "outputs": [],
   "source": [
    "\n",
    "def transform_to_user_item_interactions(df, df_poi):\n",
    "    interactions = []\n",
    "\n",
    "    for _, row in df.iterrows():\n",
    "        user = row[\"Nom\"]\n",
    "        profile = row[\"Profil\"]\n",
    "        id = row[\"Id\"]\n",
    "\n",
    "        # Ajouter les POI aimés comme interactions positives\n",
    "        for poi_pos in row[\"Pos\"]:\n",
    "            pos_poi_info = df_poi[df_poi[\"id\"] == poi_pos].index\n",
    "            pos_poi_info = df_poi.iloc[pos_poi_info[0]]\n",
    "            interactions.append((id, user, profile, pos_poi_info[\"id\"],pos_poi_info[\"name\"], pos_poi_info[\"sub_category\"], pos_poi_info[\"category\"], 1))\n",
    "\n",
    "        # Ajouter les POI non aimés comme interactions négatives\n",
    "        for poi_neg in row[\"Neg\"]:\n",
    "            neg_poi_info = df_poi[df_poi[\"id\"] == poi_neg].index\n",
    "            neg_poi_info = df_poi.iloc[neg_poi_info[0]]\n",
    "            interactions.append((id, user, profile, neg_poi_info[\"id\"], neg_poi_info[\"name\"], neg_poi_info[\"sub_category\"], neg_poi_info[\"category\"], 0))\n",
    "\n",
    "    return pd.DataFrame(interactions, columns=[\"Id\", \"User\", \"Profil\", \"POI-id\", \"POI-name\", \"POI-SubCat\", \"POI-Cat\", \"Liked (0 or 1)\"])\n",
    "\n"
   ]
  },
  {
   "cell_type": "code",
   "execution_count": 95,
   "metadata": {},
   "outputs": [],
   "source": [
    "def find_similarity(df_user_transformed, df_user):\n",
    "    from sklearn.metrics.pairwise import cosine_similarity\n",
    "\n",
    "    # Select the rows corresponding to the target user (id 10)\n",
    "    target_user_row = df_user_transformed[df_user_transformed[\"Id\"] == 10].iloc[1]\n",
    "\n",
    "    # Select the rows corresponding to other users\n",
    "    other_users_rows = df_user_transformed[df_user_transformed[\"Id\"] != 10]\n",
    "\n",
    "    # Extract the interaction vectors for the target user and other users\n",
    "    target_user_vector = target_user_row.iloc[7:].values.reshape(1, -1)  # 7 corresponds to the index of the \"Liked (0 or 1)\" column\n",
    "    other_users_vectors = other_users_rows.iloc[:, 7:].values\n",
    "\n",
    "    # Compute cosine similarity\n",
    "    similarities = cosine_similarity(target_user_vector, other_users_vectors)\n",
    "\n",
    "    # Create a DataFrame to display the results\n",
    "    similarity_df = pd.DataFrame({\n",
    "        \"User\": other_users_rows[\"User\"].values,\n",
    "        \"Similarity\": similarities[0]\n",
    "    })\n",
    "\n",
    "    # Sort the DataFrame by similarity in descending order\n",
    "    similarity_df = similarity_df.sort_values(by=\"Similarity\", ascending=False)\n",
    "\n",
    "    # Display the result\n",
    "    #print(similarity_df)\n",
    "\n",
    "    # Merge similarity_df with df_user to get the details of similar users\n",
    "    similar_users_details = pd.merge(similarity_df, df_user, left_on=\"User\", right_on=\"Nom\", how=\"inner\")\n",
    "\n",
    "    # Count the number of times each user has a similarity value of 1 and 0\n",
    "    user_similarity_counts = (\n",
    "        similar_users_details.groupby([\"User\", \"Similarity\"]).size().unstack(fill_value=0)\n",
    "    )\n",
    "\n",
    "    # Sort the DataFrame by the count of 1 in descending order\n",
    "    user_similarity_counts_sorted = user_similarity_counts.sort_values(by=1, ascending=False)\n",
    "    print(user_similarity_counts_sorted)\n",
    "    # Get the user with the most 1 values\n",
    "    most_similar_user_id = user_similarity_counts_sorted.index[0]\n",
    "    print(most_similar_user_id)\n",
    "    # Get the details of the most similar user\n",
    "    most_similar_user_details = similar_users_details[similar_users_details[\"User\"] == most_similar_user_id]\n",
    "\n",
    "    return most_similar_user_details\n"
   ]
  },
  {
   "cell_type": "code",
   "execution_count": 96,
   "metadata": {},
   "outputs": [],
   "source": [
    "def main_collaborative(pos, neg) :\n",
    "    print(\"Init profil....\")\n",
    "    df_profil = init_profil()\n",
    "    print(\"Init user....\")\n",
    "    df_user = init_user(df_profil)\n",
    "    df_user = add_quokka(df_user, pos, neg)\n",
    "    print(\"Init POI....\")\n",
    "    df_poi = init_poi_data()\n",
    "    df_user_transformed = transform_to_user_item_interactions(df_user, df_poi)\n",
    "    print(\"Find similariry....\")\n",
    "    most_similarity_user = find_similarity(df_user_transformed, df_user)\n",
    "    return most_similarity_user"
   ]
  },
  {
   "cell_type": "code",
   "execution_count": 97,
   "metadata": {},
   "outputs": [
    {
     "name": "stdout",
     "output_type": "stream",
     "text": [
      "Init profil....\n",
      "Init user....\n",
      "Init POI....\n",
      "Find similariry....\n",
      "Similarity  0.0  1.0\n",
      "User                \n",
      "Anderson      7   10\n",
      "Hines         5   10\n",
      "Gomez         6    9\n",
      "Mccoy         4    9\n",
      "York          4    6\n",
      "King          6    5\n",
      "Rhodes        1    4\n",
      "Whitaker      5    4\n",
      "West          4    3\n",
      "Anderson\n",
      "Détails de l'utilisateur le plus similaire (avec le plus de 1 dans Similarity):\n",
      "User                                                   Anderson\n",
      "Similarity                                                  1.0\n",
      "Id                                                            3\n",
      "Nom                                                    Anderson\n",
      "Prénom                                                   Justin\n",
      "Profil                                    Historique (19,20ème)\n",
      "Pos           [267878387, 6264550437, 2514258897, 2084125343...\n",
      "Neg           [312415707, 291231959, 9356148774, 11186120804...\n",
      "Name: 25, dtype: object\n"
     ]
    },
    {
     "name": "stderr",
     "output_type": "stream",
     "text": [
      "C:\\Users\\HP\\AppData\\Local\\Temp\\ipykernel_19636\\3730880532.py:3: FutureWarning: The frame.append method is deprecated and will be removed from pandas in a future version. Use pandas.concat instead.\n",
      "  df_user = df_user.append({\n"
     ]
    }
   ],
   "source": [
    "pos = [26860223, 31425173]\n",
    "neg = [31575884]\n",
    "user_similarity = main_collaborative(pos, neg)"
   ]
  },
  {
   "cell_type": "code",
   "execution_count": null,
   "metadata": {},
   "outputs": [],
   "source": []
  },
  {
   "cell_type": "code",
   "execution_count": null,
   "metadata": {},
   "outputs": [],
   "source": []
  }
 ],
 "metadata": {
  "kernelspec": {
   "display_name": "base",
   "language": "python",
   "name": "python3"
  },
  "language_info": {
   "codemirror_mode": {
    "name": "ipython",
    "version": 3
   },
   "file_extension": ".py",
   "mimetype": "text/x-python",
   "name": "python",
   "nbconvert_exporter": "python",
   "pygments_lexer": "ipython3",
   "version": "3.9.13"
  }
 },
 "nbformat": 4,
 "nbformat_minor": 2
}
