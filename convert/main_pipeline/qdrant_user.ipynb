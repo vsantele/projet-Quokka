{
 "cells": [
  {
   "cell_type": "code",
   "execution_count": 262,
   "metadata": {},
   "outputs": [
    {
     "name": "stdout",
     "output_type": "stream",
     "text": [
      "Installing requirements....\n"
     ]
    }
   ],
   "source": [
    "print(\"Installing requirements....\")"
   ]
  },
  {
   "cell_type": "code",
   "execution_count": 263,
   "metadata": {},
   "outputs": [
    {
     "name": "stdout",
     "output_type": "stream",
     "text": [
      "Requirement already satisfied: faker in c:\\users\\hp\\anaconda3\\lib\\site-packages (20.0.3)\n",
      "Requirement already satisfied: scikit-surprise in c:\\users\\hp\\anaconda3\\lib\\site-packages (1.1.1)\n",
      "Requirement already satisfied: python-dateutil>=2.4 in c:\\users\\hp\\anaconda3\\lib\\site-packages (from faker) (2.8.2)\n",
      "Requirement already satisfied: joblib>=0.11 in c:\\users\\hp\\anaconda3\\lib\\site-packages (from scikit-surprise) (1.1.0)\n",
      "Requirement already satisfied: numpy>=1.11.2 in c:\\users\\hp\\anaconda3\\lib\\site-packages (from scikit-surprise) (1.24.4)\n",
      "Requirement already satisfied: scipy>=1.0.0 in c:\\users\\hp\\anaconda3\\lib\\site-packages (from scikit-surprise) (1.9.1)\n",
      "Requirement already satisfied: six>=1.10.0 in c:\\users\\hp\\anaconda3\\lib\\site-packages (from scikit-surprise) (1.16.0)\n",
      "Note: you may need to restart the kernel to use updated packages.\n"
     ]
    }
   ],
   "source": [
    "%pip install faker scikit-surprise"
   ]
  },
  {
   "cell_type": "code",
   "execution_count": 264,
   "metadata": {},
   "outputs": [],
   "source": [
    "from faker import Faker\n",
    "import polars as pl\n",
    "import numpy as np\n",
    "import pyarrow.parquet as pq\n",
    "from surprise.model_selection import train_test_split\n",
    "from surprise import SVD\n",
    "\n",
    "import pandas as pd\n",
    "\n",
    "from surprise import Dataset, NormalPredictor, Reader\n"
   ]
  },
  {
   "cell_type": "code",
   "execution_count": null,
   "metadata": {},
   "outputs": [],
   "source": []
  },
  {
   "cell_type": "code",
   "execution_count": 265,
   "metadata": {},
   "outputs": [],
   "source": [
    "def init_profil():\n",
    "    df_profil = [\n",
    "        {\n",
    "            \"Nom\": \"Fan de la nature\",\n",
    "            \"pos\": [161902431, 6256757776, 5771053254, 8731063849, 9609413254, 8615466894, 9356148774, 304351397, 304374138],\n",
    "            \"neg\": [304850843, 9964615559, 6264550437, 2514192427, 11186120804, 9663434784]\n",
    "        },\n",
    "        {\n",
    "            \"Nom\": \"Historique (médieval)\",\n",
    "            \"pos\": [9964615559, 2080454089, 8309291920, 9767828163, 10815282268, 11006240930, 6635074831, 205161375, 312031207, 9964615559],\n",
    "            \"neg\": [267878387, 6264550437, 6256757776, 304882303, 310235557]\n",
    "        },\n",
    "        {\n",
    "            \"Nom\": \"Monument typique (Grand lieu)\",\n",
    "            \"pos\": [6580307576, 249292417, 267878387],\n",
    "            \"neg\": [8731063849, 8731063849, 6635074831, 9767828163]\n",
    "        },\n",
    "        {\n",
    "            \"Nom\": \"Historique (19,20ème)\",\n",
    "            \"pos\": [267878387, 6264550437, 2514258897, 2084125343, 407714718, 34050681, 271394429, 310235557, 368996291, 393969161],\n",
    "            \"neg\": [312415707, 291231959, 9356148774, 11186120804, 6256757776, 34050692, 304374138]\n",
    "        },\n",
    "        {\n",
    "            \"Nom\": \"Artistique\",\n",
    "            \"pos\": [2514192427, 9663434784, 251316201, 11186120804, 291231959],\n",
    "            \"neg\": [9356148774, 407714718, 11006240930, 9964615559, 310235557, 393969161]\n",
    "        },\n",
    "        {\n",
    "            \"Nom\": \"Antiquité\",\n",
    "            \"pos\": [4729709152, 874341418, 9864187809, 34050692],\n",
    "            \"neg\": [267878387, 9609413254, 271394429, 6635074831, 6580307576]\n",
    "        },\n",
    "        {\n",
    "            \"Nom\": \"Fan de musée\",\n",
    "            \"pos\": [34050681, 393969161, 34050692, 160079640, 251316201, 252382829, 291231959, 311512162, 34050692],\n",
    "            \"neg\": [9609413254, 6580307576, 2084125343, 407714718]\n",
    "        },\n",
    "        {\n",
    "            \"Nom\": \"Histoire (général)\",\n",
    "            \"pos\": [251316201, 252382829, 258816379, 291232006, 304882303, 310235557],\n",
    "            \"neg\": [6256757776, 5771053254, 2514192427, 6580307576]\n",
    "        },\n",
    "        {\n",
    "            \"Nom\": \"Religieux\",\n",
    "            \"pos\": [251466390, 304850843, 307675986, 304850843, 10922394383],\n",
    "            \"neg\": [251316201]\n",
    "        }\n",
    "    ]\n",
    "    df_profil = pd.DataFrame(df_profil)\n",
    "    return df_profil\n"
   ]
  },
  {
   "cell_type": "code",
   "execution_count": null,
   "metadata": {},
   "outputs": [],
   "source": []
  },
  {
   "cell_type": "code",
   "execution_count": 266,
   "metadata": {},
   "outputs": [],
   "source": [
    "def init_user(df_profil):\n",
    "    # Initialisation de Faker\n",
    "    fake = Faker()\n",
    "\n",
    "    nb_profil = 9\n",
    "    # Génération de 20 profils aléatoires avec noms et prénoms\n",
    "    noms = [fake.last_name() for _ in range(nb_profil)]\n",
    "    prenoms = [fake.first_name() for _ in range(nb_profil)]\n",
    "    profils_aleatoires = [df_profil['Nom'][i] for i in range(nb_profil)]\n",
    "    ids = [i for i in range(nb_profil)]\n",
    "\n",
    "    # Création du DataFrame\n",
    "    df_user = pd.DataFrame({\n",
    "        \"Id\": ids,\n",
    "        \"Nom\": noms,\n",
    "        \"Prénom\": prenoms,\n",
    "        \"Profil\": profils_aleatoires\n",
    "    })\n",
    "\n",
    "    # Ajout des points positifs (pos) et négatifs (neg) pour chaque profil\n",
    "    df_user[\"Pos\"] = df_user[\"Profil\"].apply(lambda x: df_profil[df_profil[\"Nom\"] == x][\"pos\"].values[0])\n",
    "    df_user[\"Neg\"] = df_user[\"Profil\"].apply(lambda x: df_profil[df_profil[\"Nom\"] == x][\"neg\"].values[0])\n",
    "\n",
    "    return df_user\n",
    "\n"
   ]
  },
  {
   "cell_type": "code",
   "execution_count": 267,
   "metadata": {},
   "outputs": [],
   "source": [
    "\n",
    "def add_quokka(df_user, pos, neg):\n",
    "    # Nouveau DataFrame pour Quokka\n",
    "    quokka_data = {\n",
    "        \"Id\": [10],\n",
    "        \"Nom\": [\"Quokka\"],\n",
    "        \"Prénom\": [\"Quokka\"],\n",
    "        \"Profil\": [\"\"],  # Mettez le profil approprié pour Quokka\n",
    "        \"Pos\": [pos],  # Mettez les points positifs appropriés pour Quokka\n",
    "        \"Neg\": [neg]  # Mettez les points négatifs appropriés pour Quokka\n",
    "    }\n",
    "\n",
    "    # Créer le DataFrame pour Quokka\n",
    "    df_quokka = pd.DataFrame(quokka_data)\n",
    "\n",
    "    # Concaténer df_user et df_quokka\n",
    "    df_user = pd.concat([df_user, df_quokka], ignore_index=True)\n",
    "\n",
    "    return df_user"
   ]
  },
  {
   "cell_type": "code",
   "execution_count": 268,
   "metadata": {},
   "outputs": [],
   "source": [
    "\n",
    "def init_poi_data():\n",
    "    df_geo = pl.read_parquet(\"../../data/transformed/poi_clean_category_geo.parquet\")\n",
    "    df_poi_pl = df_geo.drop([\"type\", \"geometry\"])\n",
    "    df_poi = df_poi_pl.to_pandas()\n",
    "    df_poi.head()\n",
    "    return df_poi\n"
   ]
  },
  {
   "cell_type": "code",
   "execution_count": 269,
   "metadata": {},
   "outputs": [],
   "source": [
    "\n",
    "def transform_to_user_item_interactions(df, df_poi):\n",
    "    interactions = []\n",
    "\n",
    "    for _, row in df.iterrows():\n",
    "        user = row[\"Nom\"]\n",
    "        profile = row[\"Profil\"]\n",
    "        id = row[\"Id\"]\n",
    "\n",
    "        # Ajouter les POI aimés comme interactions positives\n",
    "        for poi_pos in row[\"Pos\"]:\n",
    "            pos_poi_info = df_poi[df_poi[\"id\"] == poi_pos].index\n",
    "            pos_poi_info = df_poi.iloc[pos_poi_info[0]]\n",
    "            interactions.append((id, pos_poi_info[\"id\"], 1))\n",
    "\n",
    "        # Ajouter les POI non aimés comme interactions négatives\n",
    "        for poi_neg in row[\"Neg\"]:\n",
    "            neg_poi_info = df_poi[df_poi[\"id\"] == poi_neg].index\n",
    "            neg_poi_info = df_poi.iloc[neg_poi_info[0]]\n",
    "            interactions.append((id, neg_poi_info[\"id\"], 0))\n",
    "\n",
    "    return pd.DataFrame(interactions, columns=[\"UserID\", \"ItemID\", \"rating\"])\n",
    "\n"
   ]
  },
  {
   "cell_type": "code",
   "execution_count": 270,
   "metadata": {},
   "outputs": [],
   "source": [
    "\n",
    "def find_similarity(df_user_transformed):\n",
    "\n",
    "    print(df_user_transformed)         \n",
    "    reader = Reader(rating_scale=(0, 1))\n",
    "    \n",
    "    # The columns must correspond to user id, item id and ratings (in that order).\n",
    "    data = Dataset.load_from_df(df_user_transformed[[\"UserID\", \"ItemID\", \"rating\"]], reader)\n",
    "    print(data)\n",
    "    trainset, testset = train_test_split(data, test_size=0.33, random_state= 42)\n",
    "\n",
    "    algo = SVD()\n",
    "\n",
    "    algo.fit(trainset)\n",
    "   \n",
    "    return algo\n"
   ]
  },
  {
   "cell_type": "code",
   "execution_count": 271,
   "metadata": {},
   "outputs": [],
   "source": [
    "def main_collaborative(pos, neg) :\n",
    "    print(\"Init profil....\")\n",
    "    df_profil = init_profil()\n",
    "    print(\"Init user....\")\n",
    "    df_user = init_user(df_profil)\n",
    "    df_user = add_quokka(df_user, pos, neg)\n",
    "    print(\"Init POI....\")\n",
    "    df_poi = init_poi_data()\n",
    "    df_user_transformed = transform_to_user_item_interactions(df_user, df_poi)\n",
    "\n",
    "    print(\"Find similariry....\")\n",
    "    svd_trained = find_similarity(df_user_transformed)\n",
    "    return svd_trained"
   ]
  },
  {
   "cell_type": "code",
   "execution_count": null,
   "metadata": {},
   "outputs": [],
   "source": []
  },
  {
   "cell_type": "code",
   "execution_count": null,
   "metadata": {},
   "outputs": [],
   "source": []
  }
 ],
 "metadata": {
  "kernelspec": {
   "display_name": "base",
   "language": "python",
   "name": "python3"
  },
  "language_info": {
   "codemirror_mode": {
    "name": "ipython",
    "version": 3
   },
   "file_extension": ".py",
   "mimetype": "text/x-python",
   "name": "python",
   "nbconvert_exporter": "python",
   "pygments_lexer": "ipython3",
   "version": "3.9.13"
  }
 },
 "nbformat": 4,
 "nbformat_minor": 2
}
