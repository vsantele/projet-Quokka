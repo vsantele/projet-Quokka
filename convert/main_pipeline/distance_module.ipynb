{
 "cells": [
  {
   "cell_type": "code",
   "execution_count": 1,
   "metadata": {},
   "outputs": [
    {
     "name": "stdout",
     "output_type": "stream",
     "text": [
      "Requirement already satisfied: geopandas in c:\\users\\hp\\anaconda3\\lib\\site-packages (0.14.1)\n",
      "Requirement already satisfied: tqdm in c:\\users\\hp\\anaconda3\\lib\\site-packages (4.64.1)\n",
      "Requirement already satisfied: osmnx in c:\\users\\hp\\anaconda3\\lib\\site-packages (1.7.1)\n",
      "Requirement already satisfied: matplotlib in c:\\users\\hp\\anaconda3\\lib\\site-packages (3.5.2)\n",
      "Requirement already satisfied: pandas>=1.4.0 in c:\\users\\hp\\anaconda3\\lib\\site-packages (from geopandas) (2.1.3)\n",
      "Requirement already satisfied: pyproj>=3.3.0 in c:\\users\\hp\\anaconda3\\lib\\site-packages (from geopandas) (3.6.1)\n",
      "Requirement already satisfied: fiona>=1.8.21 in c:\\users\\hp\\anaconda3\\lib\\site-packages (from geopandas) (1.9.5)\n",
      "Requirement already satisfied: packaging in c:\\users\\hp\\appdata\\roaming\\python\\python39\\site-packages (from geopandas) (23.2)\n",
      "Requirement already satisfied: shapely>=1.8.0 in c:\\users\\hp\\anaconda3\\lib\\site-packages (from geopandas) (2.0.2)\n",
      "Requirement already satisfied: colorama in c:\\users\\hp\\appdata\\roaming\\python\\python39\\site-packages (from tqdm) (0.4.6)\n",
      "Requirement already satisfied: numpy>=1.20 in c:\\users\\hp\\anaconda3\\lib\\site-packages (from osmnx) (1.24.4)\n",
      "Requirement already satisfied: requests>=2.27 in c:\\users\\hp\\anaconda3\\lib\\site-packages (from osmnx) (2.28.1)\n",
      "Requirement already satisfied: networkx>=2.5 in c:\\users\\hp\\anaconda3\\lib\\site-packages (from osmnx) (2.8.4)\n",
      "Requirement already satisfied: fonttools>=4.22.0 in c:\\users\\hp\\anaconda3\\lib\\site-packages (from matplotlib) (4.25.0)\n",
      "Requirement already satisfied: cycler>=0.10 in c:\\users\\hp\\anaconda3\\lib\\site-packages (from matplotlib) (0.11.0)\n",
      "Requirement already satisfied: kiwisolver>=1.0.1 in c:\\users\\hp\\anaconda3\\lib\\site-packages (from matplotlib) (1.4.2)\n",
      "Requirement already satisfied: pyparsing>=2.2.1 in c:\\users\\hp\\anaconda3\\lib\\site-packages (from matplotlib) (3.0.9)\n",
      "Requirement already satisfied: python-dateutil>=2.7 in c:\\users\\hp\\anaconda3\\lib\\site-packages (from matplotlib) (2.8.2)\n",
      "Requirement already satisfied: pillow>=6.2.0 in c:\\users\\hp\\anaconda3\\lib\\site-packages (from matplotlib) (10.0.1)\n",
      "Requirement already satisfied: six in c:\\users\\hp\\anaconda3\\lib\\site-packages (from fiona>=1.8.21->geopandas) (1.16.0)\n",
      "Requirement already satisfied: attrs>=19.2.0 in c:\\users\\hp\\anaconda3\\lib\\site-packages (from fiona>=1.8.21->geopandas) (21.4.0)\n",
      "Requirement already satisfied: cligj>=0.5 in c:\\users\\hp\\anaconda3\\lib\\site-packages (from fiona>=1.8.21->geopandas) (0.7.2)\n",
      "Requirement already satisfied: importlib-metadata in c:\\users\\hp\\appdata\\roaming\\python\\python39\\site-packages (from fiona>=1.8.21->geopandas) (6.8.0)\n",
      "Requirement already satisfied: click~=8.0 in c:\\users\\hp\\anaconda3\\lib\\site-packages (from fiona>=1.8.21->geopandas) (8.0.4)\n",
      "Requirement already satisfied: certifi in c:\\users\\hp\\anaconda3\\lib\\site-packages (from fiona>=1.8.21->geopandas) (2023.11.17)\n",
      "Requirement already satisfied: setuptools in c:\\users\\hp\\anaconda3\\lib\\site-packages (from fiona>=1.8.21->geopandas) (63.4.1)\n",
      "Requirement already satisfied: click-plugins>=1.0 in c:\\users\\hp\\anaconda3\\lib\\site-packages (from fiona>=1.8.21->geopandas) (1.1.1)\n",
      "Requirement already satisfied: pytz>=2020.1 in c:\\users\\hp\\anaconda3\\lib\\site-packages (from pandas>=1.4.0->geopandas) (2023.3.post1)\n",
      "Requirement already satisfied: tzdata>=2022.1 in c:\\users\\hp\\anaconda3\\lib\\site-packages (from pandas>=1.4.0->geopandas) (2023.3)\n",
      "Requirement already satisfied: urllib3<1.27,>=1.21.1 in c:\\users\\hp\\anaconda3\\lib\\site-packages (from requests>=2.27->osmnx) (1.26.18)\n",
      "Requirement already satisfied: charset-normalizer<3,>=2 in c:\\users\\hp\\anaconda3\\lib\\site-packages (from requests>=2.27->osmnx) (2.0.4)\n",
      "Requirement already satisfied: idna<4,>=2.5 in c:\\users\\hp\\anaconda3\\lib\\site-packages (from requests>=2.27->osmnx) (3.3)\n",
      "Requirement already satisfied: zipp>=0.5 in c:\\users\\hp\\appdata\\roaming\\python\\python39\\site-packages (from importlib-metadata->fiona>=1.8.21->geopandas) (3.17.0)\n",
      "Note: you may need to restart the kernel to use updated packages.\n"
     ]
    }
   ],
   "source": [
    "%pip install geopandas tqdm osmnx matplotlib\n"
   ]
  },
  {
   "cell_type": "markdown",
   "metadata": {},
   "source": [
    "https://geoffboeing.com/2016/11/osmnx-python-street-networks/"
   ]
  },
  {
   "cell_type": "code",
   "execution_count": 2,
   "metadata": {},
   "outputs": [],
   "source": [
    "import osmnx as ox\n",
    "import networkx as nx\n",
    "import os\n",
    "import folium\n"
   ]
  },
  {
   "cell_type": "code",
   "execution_count": 3,
   "metadata": {},
   "outputs": [],
   "source": [
    "def setup_map(point):\n",
    "    return ox.graph_from_point((point[0], point[1]), dist=1000, dist_type='bbox', network_type='walk')"
   ]
  },
  {
   "cell_type": "code",
   "execution_count": 4,
   "metadata": {},
   "outputs": [],
   "source": [
    "def find_shortest_path_between_two_points(G,point1,point2):\n",
    "  w = \"length\"\n",
    "  node_point1=ox.nearest_nodes(G,point1[1],point1[0])\n",
    "  node_point2=ox.nearest_nodes(G,point2[1],point2[0])\n",
    "  route_point1_point2 = ox.shortest_path(G, node_point1, node_point2, weight=w, cpus=2)\n",
    "  return route_point1_point2"
   ]
  },
  {
   "cell_type": "code",
   "execution_count": 5,
   "metadata": {},
   "outputs": [],
   "source": [
    "def display_map(G, shortest_route):\n",
    "    shortest_path_coords = [(G.nodes[node][\"y\"], G.nodes[node][\"x\"]) for node in shortest_route]\n",
    "\n",
    "    mymap = folium.Map(location=shortest_path_coords[0], zoom_start=15)\n",
    "\n",
    "    folium.Marker(location=shortest_path_coords[0], popup=\"Origin\", icon=folium.Icon(color='red', prefix='fa',icon='male')).add_to(mymap)\n",
    "    folium.Marker(location=shortest_path_coords[-1], popup=\"Destination\", icon=folium.Icon(color=\"green\", icon=\"flag\")).add_to(mymap)\n",
    "\n",
    "    folium.PolyLine(locations=shortest_path_coords, color=\"blue\", weight=5, opacity=0.7).add_to(mymap)\n",
    "    return mymap"
   ]
  },
  {
   "cell_type": "code",
   "execution_count": 6,
   "metadata": {},
   "outputs": [],
   "source": [
    "def main_distance(user_pos, poi_pos):\n",
    "    G = setup_map(user_pos)\n",
    "    shortest_route=find_shortest_path_between_two_points(G, user_pos, poi_pos)\n",
    "    mymap = display_map(G, shortest_route)\n",
    "    return mymap"
   ]
  },
  {
   "cell_type": "markdown",
   "metadata": {},
   "source": [
    "https://darigak.medium.com/your-guide-to-folium-markers-b9324fc7d65d"
   ]
  },
  {
   "cell_type": "markdown",
   "metadata": {},
   "source": []
  }
 ],
 "metadata": {
  "kernelspec": {
   "display_name": "base",
   "language": "python",
   "name": "python3"
  },
  "language_info": {
   "codemirror_mode": {
    "name": "ipython",
    "version": 3
   },
   "file_extension": ".py",
   "mimetype": "text/x-python",
   "name": "python",
   "nbconvert_exporter": "python",
   "pygments_lexer": "ipython3",
   "version": "3.9.13"
  }
 },
 "nbformat": 4,
 "nbformat_minor": 2
}
