{
 "cells": [
  {
   "cell_type": "code",
   "execution_count": 59,
   "metadata": {},
   "outputs": [
    {
     "name": "stdout",
     "output_type": "stream",
     "text": [
      "Installing requirements....\n",
      "Requirement already satisfied: faker in c:\\users\\hp\\anaconda3\\lib\\site-packages (20.0.3)\n",
      "Requirement already satisfied: python-dateutil>=2.4 in c:\\users\\hp\\appdata\\roaming\\python\\python39\\site-packages (from faker) (2.8.2)\n",
      "Requirement already satisfied: six>=1.5 in c:\\users\\hp\\appdata\\roaming\\python\\python39\\site-packages (from python-dateutil>=2.4->faker) (1.16.0)\n",
      "Note: you may need to restart the kernel to use updated packages.\n",
      "Init profil....\n",
      "Init user....\n",
      "Init POI....\n",
      "Find similariry....\n",
      "Similarity  0.0  1.0\n",
      "User                \n",
      "Diaz          7   10\n",
      "Morgan        5   10\n",
      "Robinson      6    9\n",
      "Smith         4    9\n",
      "Henry         4    6\n",
      "Greer         6    5\n",
      "Cabrera       5    4\n",
      "Shaw          1    4\n",
      "Monroe        4    3\n",
      "Diaz\n"
     ]
    },
    {
     "name": "stderr",
     "output_type": "stream",
     "text": [
      "C:\\Users\\HP\\AppData\\Local\\Temp\\ipykernel_16788\\3730880532.py:3: FutureWarning: The frame.append method is deprecated and will be removed from pandas in a future version. Use pandas.concat instead.\n",
      "  df_user = df_user.append({\n"
     ]
    }
   ],
   "source": [
    "%run ./qdrant_user.ipynb"
   ]
  },
  {
   "cell_type": "code",
   "execution_count": 60,
   "metadata": {},
   "outputs": [
    {
     "name": "stdout",
     "output_type": "stream",
     "text": [
      "Init profil....\n",
      "Init user....\n"
     ]
    },
    {
     "name": "stderr",
     "output_type": "stream",
     "text": [
      "C:\\Users\\HP\\AppData\\Local\\Temp\\ipykernel_16788\\3730880532.py:3: FutureWarning: The frame.append method is deprecated and will be removed from pandas in a future version. Use pandas.concat instead.\n",
      "  df_user = df_user.append({\n"
     ]
    },
    {
     "name": "stdout",
     "output_type": "stream",
     "text": [
      "Init POI....\n",
      "Find similariry....\n",
      "Similarity  0.0  1.0\n",
      "User                \n",
      "Howard        7   10\n",
      "Reid          5   10\n",
      "Medina        4    9\n",
      "Miller        6    9\n",
      "Norton        4    6\n",
      "Little        6    5\n",
      "Allen         5    4\n",
      "Hughes        1    4\n",
      "Hart          4    3\n",
      "Howard\n"
     ]
    }
   ],
   "source": [
    "pos = [26860223, 31425173]\n",
    "neg = [31575884]\n",
    "user_similarity = main_collaborative(pos, neg)"
   ]
  },
  {
   "cell_type": "code",
   "execution_count": 61,
   "metadata": {},
   "outputs": [],
   "source": [
    "pos.extend(user_similarity[\"Pos\"].iloc[0])\n",
    "neg.extend(user_similarity[\"Neg\"].iloc[0])"
   ]
  },
  {
   "cell_type": "code",
   "execution_count": 62,
   "metadata": {},
   "outputs": [
    {
     "name": "stdout",
     "output_type": "stream",
     "text": [
      "Requirement already satisfied: sentence-transformers in c:\\users\\hp\\anaconda3\\lib\\site-packages (2.2.2)\n",
      "Requirement already satisfied: qdrant-client in c:\\users\\hp\\anaconda3\\lib\\site-packages (1.6.9)\n",
      "Requirement already satisfied: polars in c:\\users\\hp\\anaconda3\\lib\\site-packages (0.19.14)\n",
      "Requirement already satisfied: folium in c:\\users\\hp\\anaconda3\\lib\\site-packages (0.15.0)\n",
      "Requirement already satisfied: torch>=1.6.0 in c:\\users\\hp\\anaconda3\\lib\\site-packages (from sentence-transformers) (2.1.1)\n",
      "Requirement already satisfied: scipy in c:\\users\\hp\\anaconda3\\lib\\site-packages (from sentence-transformers) (1.9.1)\n",
      "Requirement already satisfied: numpy in c:\\users\\hp\\anaconda3\\lib\\site-packages (from sentence-transformers) (1.21.5)\n",
      "Requirement already satisfied: sentencepiece in c:\\users\\hp\\anaconda3\\lib\\site-packages (from sentence-transformers) (0.1.99)\n",
      "Requirement already satisfied: scikit-learn in c:\\users\\hp\\anaconda3\\lib\\site-packages (from sentence-transformers) (1.0.2)\n",
      "Requirement already satisfied: transformers<5.0.0,>=4.6.0 in c:\\users\\hp\\anaconda3\\lib\\site-packages (from sentence-transformers) (4.35.2)\n",
      "Requirement already satisfied: torchvision in c:\\users\\hp\\anaconda3\\lib\\site-packages (from sentence-transformers) (0.16.1)\n",
      "Requirement already satisfied: tqdm in c:\\users\\hp\\anaconda3\\lib\\site-packages (from sentence-transformers) (4.64.1)\n",
      "Requirement already satisfied: huggingface-hub>=0.4.0 in c:\\users\\hp\\anaconda3\\lib\\site-packages (from sentence-transformers) (0.19.4)\n",
      "Requirement already satisfied: nltk in c:\\users\\hp\\anaconda3\\lib\\site-packages (from sentence-transformers) (3.7)\n",
      "Requirement already satisfied: grpcio-tools>=1.41.0 in c:\\users\\hp\\anaconda3\\lib\\site-packages (from qdrant-client) (1.59.3)\n",
      "Requirement already satisfied: grpcio>=1.41.0 in c:\\users\\hp\\anaconda3\\lib\\site-packages (from qdrant-client) (1.59.3)\n",
      "Requirement already satisfied: urllib3<2.0.0,>=1.26.14 in c:\\users\\hp\\anaconda3\\lib\\site-packages (from qdrant-client) (1.26.18)\n",
      "Requirement already satisfied: httpx[http2]>=0.14.0 in c:\\users\\hp\\anaconda3\\lib\\site-packages (from qdrant-client) (0.25.1)\n",
      "Requirement already satisfied: portalocker<3.0.0,>=2.7.0 in c:\\users\\hp\\anaconda3\\lib\\site-packages (from qdrant-client) (2.8.2)\n",
      "Requirement already satisfied: pydantic>=1.10.8 in c:\\users\\hp\\anaconda3\\lib\\site-packages (from qdrant-client) (1.10.12)\n",
      "Requirement already satisfied: jinja2>=2.9 in c:\\users\\hp\\anaconda3\\lib\\site-packages (from folium) (2.11.3)\n",
      "Requirement already satisfied: branca>=0.6.0 in c:\\users\\hp\\anaconda3\\lib\\site-packages (from folium) (0.7.0)\n",
      "Requirement already satisfied: requests in c:\\users\\hp\\anaconda3\\lib\\site-packages (from folium) (2.28.1)\n",
      "Requirement already satisfied: setuptools in c:\\users\\hp\\anaconda3\\lib\\site-packages (from grpcio-tools>=1.41.0->qdrant-client) (63.4.1)\n",
      "Requirement already satisfied: protobuf<5.0dev,>=4.21.6 in c:\\users\\hp\\anaconda3\\lib\\site-packages (from grpcio-tools>=1.41.0->qdrant-client) (4.25.1)\n",
      "Requirement already satisfied: idna in c:\\users\\hp\\anaconda3\\lib\\site-packages (from httpx[http2]>=0.14.0->qdrant-client) (3.3)\n",
      "Requirement already satisfied: httpcore in c:\\users\\hp\\anaconda3\\lib\\site-packages (from httpx[http2]>=0.14.0->qdrant-client) (1.0.2)\n",
      "Requirement already satisfied: anyio in c:\\users\\hp\\anaconda3\\lib\\site-packages (from httpx[http2]>=0.14.0->qdrant-client) (3.5.0)\n",
      "Requirement already satisfied: certifi in c:\\users\\hp\\anaconda3\\lib\\site-packages (from httpx[http2]>=0.14.0->qdrant-client) (2022.9.14)\n",
      "Requirement already satisfied: sniffio in c:\\users\\hp\\anaconda3\\lib\\site-packages (from httpx[http2]>=0.14.0->qdrant-client) (1.2.0)\n",
      "Requirement already satisfied: h2<5,>=3 in c:\\users\\hp\\anaconda3\\lib\\site-packages (from httpx[http2]>=0.14.0->qdrant-client) (4.1.0)\n",
      "Requirement already satisfied: pyyaml>=5.1 in c:\\users\\hp\\anaconda3\\lib\\site-packages (from huggingface-hub>=0.4.0->sentence-transformers) (6.0)\n",
      "Requirement already satisfied: fsspec>=2023.5.0 in c:\\users\\hp\\anaconda3\\lib\\site-packages (from huggingface-hub>=0.4.0->sentence-transformers) (2023.10.0)\n",
      "Requirement already satisfied: filelock in c:\\users\\hp\\anaconda3\\lib\\site-packages (from huggingface-hub>=0.4.0->sentence-transformers) (3.6.0)\n",
      "Requirement already satisfied: packaging>=20.9 in c:\\users\\hp\\appdata\\roaming\\python\\python39\\site-packages (from huggingface-hub>=0.4.0->sentence-transformers) (23.2)\n",
      "Requirement already satisfied: typing-extensions>=3.7.4.3 in c:\\users\\hp\\appdata\\roaming\\python\\python39\\site-packages (from huggingface-hub>=0.4.0->sentence-transformers) (4.8.0)\n",
      "Requirement already satisfied: MarkupSafe>=0.23 in c:\\users\\hp\\anaconda3\\lib\\site-packages (from jinja2>=2.9->folium) (2.0.1)\n",
      "Requirement already satisfied: pywin32>=226 in c:\\users\\hp\\appdata\\roaming\\python\\python39\\site-packages (from portalocker<3.0.0,>=2.7.0->qdrant-client) (306)\n",
      "Requirement already satisfied: networkx in c:\\users\\hp\\anaconda3\\lib\\site-packages (from torch>=1.6.0->sentence-transformers) (2.8.4)\n",
      "Requirement already satisfied: sympy in c:\\users\\hp\\anaconda3\\lib\\site-packages (from torch>=1.6.0->sentence-transformers) (1.10.1)\n",
      "Requirement already satisfied: colorama in c:\\users\\hp\\appdata\\roaming\\python\\python39\\site-packages (from tqdm->sentence-transformers) (0.4.6)\n",
      "Requirement already satisfied: regex!=2019.12.17 in c:\\users\\hp\\anaconda3\\lib\\site-packages (from transformers<5.0.0,>=4.6.0->sentence-transformers) (2022.7.9)\n",
      "Requirement already satisfied: safetensors>=0.3.1 in c:\\users\\hp\\anaconda3\\lib\\site-packages (from transformers<5.0.0,>=4.6.0->sentence-transformers) (0.4.0)\n",
      "Requirement already satisfied: tokenizers<0.19,>=0.14 in c:\\users\\hp\\anaconda3\\lib\\site-packages (from transformers<5.0.0,>=4.6.0->sentence-transformers) (0.15.0)\n",
      "Requirement already satisfied: joblib in c:\\users\\hp\\anaconda3\\lib\\site-packages (from nltk->sentence-transformers) (1.1.0)\n",
      "Requirement already satisfied: click in c:\\users\\hp\\anaconda3\\lib\\site-packages (from nltk->sentence-transformers) (8.0.4)\n",
      "Requirement already satisfied: charset-normalizer<3,>=2 in c:\\users\\hp\\anaconda3\\lib\\site-packages (from requests->folium) (2.0.4)\n",
      "Requirement already satisfied: threadpoolctl>=2.0.0 in c:\\users\\hp\\anaconda3\\lib\\site-packages (from scikit-learn->sentence-transformers) (2.2.0)\n",
      "Requirement already satisfied: pillow!=8.3.*,>=5.3.0 in c:\\users\\hp\\anaconda3\\lib\\site-packages (from torchvision->sentence-transformers) (9.2.0)\n",
      "Requirement already satisfied: hpack<5,>=4.0 in c:\\users\\hp\\anaconda3\\lib\\site-packages (from h2<5,>=3->httpx[http2]>=0.14.0->qdrant-client) (4.0.0)\n",
      "Requirement already satisfied: hyperframe<7,>=6.0 in c:\\users\\hp\\anaconda3\\lib\\site-packages (from h2<5,>=3->httpx[http2]>=0.14.0->qdrant-client) (6.0.1)\n",
      "Requirement already satisfied: h11<0.15,>=0.13 in c:\\users\\hp\\anaconda3\\lib\\site-packages (from httpcore->httpx[http2]>=0.14.0->qdrant-client) (0.14.0)\n",
      "Requirement already satisfied: mpmath>=0.19 in c:\\users\\hp\\anaconda3\\lib\\site-packages (from sympy->torch>=1.6.0->sentence-transformers) (1.2.1)\n",
      "Note: you may need to restart the kernel to use updated packages.\n"
     ]
    },
    {
     "data": {
      "application/vnd.jupyter.widget-view+json": {
       "model_id": "d1e1b1d69f374c669e3082d3211c2ff9",
       "version_major": 2,
       "version_minor": 0
      },
      "text/plain": [
       "Batches:   0%|          | 0/248 [00:00<?, ?it/s]"
      ]
     },
     "metadata": {},
     "output_type": "display_data"
    }
   ],
   "source": [
    "%run ./qdrant_osm.ipynb"
   ]
  },
  {
   "cell_type": "code",
   "execution_count": 63,
   "metadata": {},
   "outputs": [],
   "source": [
    "user_position = [50.467388, 4.871985]"
   ]
  },
  {
   "cell_type": "code",
   "execution_count": 64,
   "metadata": {},
   "outputs": [],
   "source": [
    "pois = neural_searcher.search(\n",
    "    pos=pos,\n",
    "    neg=neg,\n",
    "    around=user_position,\n",
    ")"
   ]
  },
  {
   "cell_type": "code",
   "execution_count": 65,
   "metadata": {},
   "outputs": [
    {
     "name": "stdout",
     "output_type": "stream",
     "text": [
      "Requirement already satisfied: geopandas in c:\\users\\hp\\anaconda3\\lib\\site-packages (0.14.1)\n",
      "Requirement already satisfied: tqdm in c:\\users\\hp\\anaconda3\\lib\\site-packages (4.64.1)\n",
      "Requirement already satisfied: osmnx in c:\\users\\hp\\anaconda3\\lib\\site-packages (1.7.1)\n",
      "Requirement already satisfied: matplotlib in c:\\users\\hp\\anaconda3\\lib\\site-packages (3.5.2)\n",
      "Requirement already satisfied: packaging in c:\\users\\hp\\appdata\\roaming\\python\\python39\\site-packages (from geopandas) (23.2)\n",
      "Requirement already satisfied: pyproj>=3.3.0 in c:\\users\\hp\\anaconda3\\lib\\site-packages (from geopandas) (3.6.1)\n",
      "Requirement already satisfied: shapely>=1.8.0 in c:\\users\\hp\\anaconda3\\lib\\site-packages (from geopandas) (2.0.2)\n",
      "Requirement already satisfied: pandas>=1.4.0 in c:\\users\\hp\\anaconda3\\lib\\site-packages (from geopandas) (1.4.4)\n",
      "Requirement already satisfied: fiona>=1.8.21 in c:\\users\\hp\\anaconda3\\lib\\site-packages (from geopandas) (1.9.5)\n",
      "Requirement already satisfied: colorama in c:\\users\\hp\\appdata\\roaming\\python\\python39\\site-packages (from tqdm) (0.4.6)\n",
      "Requirement already satisfied: requests>=2.27 in c:\\users\\hp\\anaconda3\\lib\\site-packages (from osmnx) (2.28.1)\n",
      "Requirement already satisfied: numpy>=1.20 in c:\\users\\hp\\anaconda3\\lib\\site-packages (from osmnx) (1.21.5)\n",
      "Requirement already satisfied: networkx>=2.5 in c:\\users\\hp\\anaconda3\\lib\\site-packages (from osmnx) (2.8.4)\n",
      "Requirement already satisfied: pyparsing>=2.2.1 in c:\\users\\hp\\anaconda3\\lib\\site-packages (from matplotlib) (3.0.9)\n",
      "Requirement already satisfied: kiwisolver>=1.0.1 in c:\\users\\hp\\anaconda3\\lib\\site-packages (from matplotlib) (1.4.2)\n",
      "Requirement already satisfied: fonttools>=4.22.0 in c:\\users\\hp\\anaconda3\\lib\\site-packages (from matplotlib) (4.25.0)\n",
      "Requirement already satisfied: cycler>=0.10 in c:\\users\\hp\\anaconda3\\lib\\site-packages (from matplotlib) (0.11.0)\n",
      "Requirement already satisfied: python-dateutil>=2.7 in c:\\users\\hp\\appdata\\roaming\\python\\python39\\site-packages (from matplotlib) (2.8.2)\n",
      "Requirement already satisfied: pillow>=6.2.0 in c:\\users\\hp\\anaconda3\\lib\\site-packages (from matplotlib) (9.2.0)\n",
      "Requirement already satisfied: setuptools in c:\\users\\hp\\anaconda3\\lib\\site-packages (from fiona>=1.8.21->geopandas) (63.4.1)\n",
      "Requirement already satisfied: cligj>=0.5 in c:\\users\\hp\\anaconda3\\lib\\site-packages (from fiona>=1.8.21->geopandas) (0.7.2)\n",
      "Requirement already satisfied: click-plugins>=1.0 in c:\\users\\hp\\anaconda3\\lib\\site-packages (from fiona>=1.8.21->geopandas) (1.1.1)\n",
      "Requirement already satisfied: certifi in c:\\users\\hp\\anaconda3\\lib\\site-packages (from fiona>=1.8.21->geopandas) (2022.9.14)\n",
      "Requirement already satisfied: six in c:\\users\\hp\\appdata\\roaming\\python\\python39\\site-packages (from fiona>=1.8.21->geopandas) (1.16.0)\n",
      "Requirement already satisfied: attrs>=19.2.0 in c:\\users\\hp\\anaconda3\\lib\\site-packages (from fiona>=1.8.21->geopandas) (21.4.0)\n",
      "Requirement already satisfied: importlib-metadata in c:\\users\\hp\\appdata\\roaming\\python\\python39\\site-packages (from fiona>=1.8.21->geopandas) (6.8.0)\n",
      "Requirement already satisfied: click~=8.0 in c:\\users\\hp\\anaconda3\\lib\\site-packages (from fiona>=1.8.21->geopandas) (8.0.4)\n",
      "Requirement already satisfied: pytz>=2020.1 in c:\\users\\hp\\anaconda3\\lib\\site-packages (from pandas>=1.4.0->geopandas) (2022.1)\n",
      "Requirement already satisfied: idna<4,>=2.5 in c:\\users\\hp\\anaconda3\\lib\\site-packages (from requests>=2.27->osmnx) (3.3)\n",
      "Requirement already satisfied: charset-normalizer<3,>=2 in c:\\users\\hp\\anaconda3\\lib\\site-packages (from requests>=2.27->osmnx) (2.0.4)\n",
      "Requirement already satisfied: urllib3<1.27,>=1.21.1 in c:\\users\\hp\\anaconda3\\lib\\site-packages (from requests>=2.27->osmnx) (1.26.18)\n",
      "Requirement already satisfied: zipp>=0.5 in c:\\users\\hp\\appdata\\roaming\\python\\python39\\site-packages (from importlib-metadata->fiona>=1.8.21->geopandas) (3.17.0)\n",
      "Note: you may need to restart the kernel to use updated packages.\n"
     ]
    }
   ],
   "source": [
    "%run ./distance_module.ipynb"
   ]
  },
  {
   "cell_type": "code",
   "execution_count": 66,
   "metadata": {},
   "outputs": [
    {
     "data": {
      "text/html": [
       "<div style=\"width:100%;\"><div style=\"position:relative;width:100%;height:0;padding-bottom:60%;\"><span style=\"color:#565656\">Make this Notebook Trusted to load map: File -> Trust Notebook</span><iframe srcdoc=\"&lt;!DOCTYPE html&gt;\n",
       "&lt;html&gt;\n",
       "&lt;head&gt;\n",
       "    \n",
       "    &lt;meta http-equiv=&quot;content-type&quot; content=&quot;text/html; charset=UTF-8&quot; /&gt;\n",
       "    \n",
       "        &lt;script&gt;\n",
       "            L_NO_TOUCH = false;\n",
       "            L_DISABLE_3D = false;\n",
       "        &lt;/script&gt;\n",
       "    \n",
       "    &lt;style&gt;html, body {width: 100%;height: 100%;margin: 0;padding: 0;}&lt;/style&gt;\n",
       "    &lt;style&gt;#map {position:absolute;top:0;bottom:0;right:0;left:0;}&lt;/style&gt;\n",
       "    &lt;script src=&quot;https://cdn.jsdelivr.net/npm/leaflet@1.9.3/dist/leaflet.js&quot;&gt;&lt;/script&gt;\n",
       "    &lt;script src=&quot;https://code.jquery.com/jquery-3.7.1.min.js&quot;&gt;&lt;/script&gt;\n",
       "    &lt;script src=&quot;https://cdn.jsdelivr.net/npm/bootstrap@5.2.2/dist/js/bootstrap.bundle.min.js&quot;&gt;&lt;/script&gt;\n",
       "    &lt;script src=&quot;https://cdnjs.cloudflare.com/ajax/libs/Leaflet.awesome-markers/2.0.2/leaflet.awesome-markers.js&quot;&gt;&lt;/script&gt;\n",
       "    &lt;link rel=&quot;stylesheet&quot; href=&quot;https://cdn.jsdelivr.net/npm/leaflet@1.9.3/dist/leaflet.css&quot;/&gt;\n",
       "    &lt;link rel=&quot;stylesheet&quot; href=&quot;https://cdn.jsdelivr.net/npm/bootstrap@5.2.2/dist/css/bootstrap.min.css&quot;/&gt;\n",
       "    &lt;link rel=&quot;stylesheet&quot; href=&quot;https://netdna.bootstrapcdn.com/bootstrap/3.0.0/css/bootstrap.min.css&quot;/&gt;\n",
       "    &lt;link rel=&quot;stylesheet&quot; href=&quot;https://cdn.jsdelivr.net/npm/@fortawesome/fontawesome-free@6.2.0/css/all.min.css&quot;/&gt;\n",
       "    &lt;link rel=&quot;stylesheet&quot; href=&quot;https://cdnjs.cloudflare.com/ajax/libs/Leaflet.awesome-markers/2.0.2/leaflet.awesome-markers.css&quot;/&gt;\n",
       "    &lt;link rel=&quot;stylesheet&quot; href=&quot;https://cdn.jsdelivr.net/gh/python-visualization/folium/folium/templates/leaflet.awesome.rotate.min.css&quot;/&gt;\n",
       "    \n",
       "            &lt;meta name=&quot;viewport&quot; content=&quot;width=device-width,\n",
       "                initial-scale=1.0, maximum-scale=1.0, user-scalable=no&quot; /&gt;\n",
       "            &lt;style&gt;\n",
       "                #map_b2416a278f6f0409fa3e658d0cd3a823 {\n",
       "                    position: relative;\n",
       "                    width: 100.0%;\n",
       "                    height: 100.0%;\n",
       "                    left: 0.0%;\n",
       "                    top: 0.0%;\n",
       "                }\n",
       "                .leaflet-container { font-size: 1rem; }\n",
       "            &lt;/style&gt;\n",
       "        \n",
       "&lt;/head&gt;\n",
       "&lt;body&gt;\n",
       "    \n",
       "    \n",
       "            &lt;div class=&quot;folium-map&quot; id=&quot;map_b2416a278f6f0409fa3e658d0cd3a823&quot; &gt;&lt;/div&gt;\n",
       "        \n",
       "&lt;/body&gt;\n",
       "&lt;script&gt;\n",
       "    \n",
       "    \n",
       "            var map_b2416a278f6f0409fa3e658d0cd3a823 = L.map(\n",
       "                &quot;map_b2416a278f6f0409fa3e658d0cd3a823&quot;,\n",
       "                {\n",
       "                    center: [50.4674321, 4.8717049],\n",
       "                    crs: L.CRS.EPSG3857,\n",
       "                    zoom: 15,\n",
       "                    zoomControl: true,\n",
       "                    preferCanvas: false,\n",
       "                }\n",
       "            );\n",
       "\n",
       "            \n",
       "\n",
       "        \n",
       "    \n",
       "            var tile_layer_93a74b4949cd451c56735dee6423fc6d = L.tileLayer(\n",
       "                &quot;https://{s}.tile.openstreetmap.org/{z}/{x}/{y}.png&quot;,\n",
       "                {&quot;attribution&quot;: &quot;Data by \\u0026copy; \\u003ca target=\\&quot;_blank\\&quot; href=\\&quot;http://openstreetmap.org\\&quot;\\u003eOpenStreetMap\\u003c/a\\u003e, under \\u003ca target=\\&quot;_blank\\&quot; href=\\&quot;http://www.openstreetmap.org/copyright\\&quot;\\u003eODbL\\u003c/a\\u003e.&quot;, &quot;detectRetina&quot;: false, &quot;maxNativeZoom&quot;: 18, &quot;maxZoom&quot;: 18, &quot;minZoom&quot;: 0, &quot;noWrap&quot;: false, &quot;opacity&quot;: 1, &quot;subdomains&quot;: &quot;abc&quot;, &quot;tms&quot;: false}\n",
       "            );\n",
       "        \n",
       "    \n",
       "                tile_layer_93a74b4949cd451c56735dee6423fc6d.addTo(map_b2416a278f6f0409fa3e658d0cd3a823);\n",
       "    \n",
       "            var marker_e8c4a35ce6afd8ff15b9bca1409bbbc0 = L.marker(\n",
       "                [50.4674321, 4.8717049],\n",
       "                {}\n",
       "            ).addTo(map_b2416a278f6f0409fa3e658d0cd3a823);\n",
       "        \n",
       "    \n",
       "            var icon_b89784f73ee647797bfcfa1be0a0c2fe = L.AwesomeMarkers.icon(\n",
       "                {&quot;extraClasses&quot;: &quot;fa-rotate-0&quot;, &quot;icon&quot;: &quot;male&quot;, &quot;iconColor&quot;: &quot;white&quot;, &quot;markerColor&quot;: &quot;red&quot;, &quot;prefix&quot;: &quot;fa&quot;}\n",
       "            );\n",
       "            marker_e8c4a35ce6afd8ff15b9bca1409bbbc0.setIcon(icon_b89784f73ee647797bfcfa1be0a0c2fe);\n",
       "        \n",
       "    \n",
       "        var popup_0c31ee54167391e03994c62f50ada9b3 = L.popup({&quot;maxWidth&quot;: &quot;100%&quot;});\n",
       "\n",
       "        \n",
       "            \n",
       "                var html_d9fbe2d265f0336edd02f8a68bda87b9 = $(`&lt;div id=&quot;html_d9fbe2d265f0336edd02f8a68bda87b9&quot; style=&quot;width: 100.0%; height: 100.0%;&quot;&gt;Origin&lt;/div&gt;`)[0];\n",
       "                popup_0c31ee54167391e03994c62f50ada9b3.setContent(html_d9fbe2d265f0336edd02f8a68bda87b9);\n",
       "            \n",
       "        \n",
       "\n",
       "        marker_e8c4a35ce6afd8ff15b9bca1409bbbc0.bindPopup(popup_0c31ee54167391e03994c62f50ada9b3)\n",
       "        ;\n",
       "\n",
       "        \n",
       "    \n",
       "    \n",
       "            var marker_59561b24016bb0ea02a858ba0502b97e = L.marker(\n",
       "                [50.4671558, 4.8591638],\n",
       "                {}\n",
       "            ).addTo(map_b2416a278f6f0409fa3e658d0cd3a823);\n",
       "        \n",
       "    \n",
       "            var icon_a91087b5f6b4751bd558c068bba105e5 = L.AwesomeMarkers.icon(\n",
       "                {&quot;extraClasses&quot;: &quot;fa-rotate-0&quot;, &quot;icon&quot;: &quot;flag&quot;, &quot;iconColor&quot;: &quot;white&quot;, &quot;markerColor&quot;: &quot;green&quot;, &quot;prefix&quot;: &quot;glyphicon&quot;}\n",
       "            );\n",
       "            marker_59561b24016bb0ea02a858ba0502b97e.setIcon(icon_a91087b5f6b4751bd558c068bba105e5);\n",
       "        \n",
       "    \n",
       "        var popup_0fd90a9b0afc2030a207c481f15413d6 = L.popup({&quot;maxWidth&quot;: &quot;100%&quot;});\n",
       "\n",
       "        \n",
       "            \n",
       "                var html_a8ecceac910d6fdc4fde7a64a702317e = $(`&lt;div id=&quot;html_a8ecceac910d6fdc4fde7a64a702317e&quot; style=&quot;width: 100.0%; height: 100.0%;&quot;&gt;Destination&lt;/div&gt;`)[0];\n",
       "                popup_0fd90a9b0afc2030a207c481f15413d6.setContent(html_a8ecceac910d6fdc4fde7a64a702317e);\n",
       "            \n",
       "        \n",
       "\n",
       "        marker_59561b24016bb0ea02a858ba0502b97e.bindPopup(popup_0fd90a9b0afc2030a207c481f15413d6)\n",
       "        ;\n",
       "\n",
       "        \n",
       "    \n",
       "    \n",
       "            var poly_line_970eed0bcc8698b21c117e216ff6e011 = L.polyline(\n",
       "                [[50.4674321, 4.8717049], [50.4667684, 4.8706148], [50.4663225, 4.8698642], [50.4657941, 4.8689841], [50.4644256, 4.8666946], [50.4646982, 4.8660999], [50.464911, 4.8650971], [50.4649563, 4.8650204], [50.4652185, 4.8636685], [50.4655325, 4.8624666], [50.4659557, 4.8611889], [50.4665655, 4.8601703], [50.4668843, 4.8596317], [50.4671558, 4.8591638]],\n",
       "                {&quot;bubblingMouseEvents&quot;: true, &quot;color&quot;: &quot;blue&quot;, &quot;dashArray&quot;: null, &quot;dashOffset&quot;: null, &quot;fill&quot;: false, &quot;fillColor&quot;: &quot;blue&quot;, &quot;fillOpacity&quot;: 0.2, &quot;fillRule&quot;: &quot;evenodd&quot;, &quot;lineCap&quot;: &quot;round&quot;, &quot;lineJoin&quot;: &quot;round&quot;, &quot;noClip&quot;: false, &quot;opacity&quot;: 0.7, &quot;smoothFactor&quot;: 1.0, &quot;stroke&quot;: true, &quot;weight&quot;: 5}\n",
       "            ).addTo(map_b2416a278f6f0409fa3e658d0cd3a823);\n",
       "        \n",
       "&lt;/script&gt;\n",
       "&lt;/html&gt;\" style=\"position:absolute;width:100%;height:100%;left:0;top:0;border:none !important;\" allowfullscreen webkitallowfullscreen mozallowfullscreen></iframe></div></div>"
      ],
      "text/plain": [
       "<folium.folium.Map at 0x247a0d51520>"
      ]
     },
     "execution_count": 66,
     "metadata": {},
     "output_type": "execute_result"
    }
   ],
   "source": [
    "# Lat, lon\n",
    "\n",
    "mymap = main_distance(user_position, (pois[0][\"lat\"], pois[0][\"lon\"]))\n",
    "mymap"
   ]
  },
  {
   "cell_type": "code",
   "execution_count": null,
   "metadata": {},
   "outputs": [],
   "source": []
  },
  {
   "cell_type": "code",
   "execution_count": null,
   "metadata": {},
   "outputs": [],
   "source": []
  }
 ],
 "metadata": {
  "kernelspec": {
   "display_name": "base",
   "language": "python",
   "name": "python3"
  },
  "language_info": {
   "codemirror_mode": {
    "name": "ipython",
    "version": 3
   },
   "file_extension": ".py",
   "mimetype": "text/x-python",
   "name": "python",
   "nbconvert_exporter": "python",
   "pygments_lexer": "ipython3",
   "version": "3.9.13"
  }
 },
 "nbformat": 4,
 "nbformat_minor": 2
}
