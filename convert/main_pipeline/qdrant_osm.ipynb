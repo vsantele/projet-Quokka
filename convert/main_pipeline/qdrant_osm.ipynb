{
 "cells": [
  {
   "cell_type": "code",
   "execution_count": 26,
   "metadata": {},
   "outputs": [
    {
     "name": "stdout",
     "output_type": "stream",
     "text": [
      "Requirement already satisfied: sentence-transformers in c:\\users\\hp\\anaconda3\\lib\\site-packages (2.2.2)\n",
      "Requirement already satisfied: qdrant-client in c:\\users\\hp\\anaconda3\\lib\\site-packages (1.6.9)\n",
      "Requirement already satisfied: polars in c:\\users\\hp\\anaconda3\\lib\\site-packages (0.19.14)\n",
      "Requirement already satisfied: folium in c:\\users\\hp\\anaconda3\\lib\\site-packages (0.15.0)\n",
      "Requirement already satisfied: scikit-learn in c:\\users\\hp\\anaconda3\\lib\\site-packages (from sentence-transformers) (1.0.2)\n",
      "Requirement already satisfied: nltk in c:\\users\\hp\\anaconda3\\lib\\site-packages (from sentence-transformers) (3.7)\n",
      "Requirement already satisfied: torchvision in c:\\users\\hp\\anaconda3\\lib\\site-packages (from sentence-transformers) (0.16.1)\n",
      "Requirement already satisfied: torch>=1.6.0 in c:\\users\\hp\\anaconda3\\lib\\site-packages (from sentence-transformers) (2.1.1)\n",
      "Requirement already satisfied: numpy in c:\\users\\hp\\anaconda3\\lib\\site-packages (from sentence-transformers) (1.21.5)\n",
      "Requirement already satisfied: tqdm in c:\\users\\hp\\anaconda3\\lib\\site-packages (from sentence-transformers) (4.64.1)\n",
      "Requirement already satisfied: transformers<5.0.0,>=4.6.0 in c:\\users\\hp\\anaconda3\\lib\\site-packages (from sentence-transformers) (4.35.2)\n",
      "Requirement already satisfied: sentencepiece in c:\\users\\hp\\anaconda3\\lib\\site-packages (from sentence-transformers) (0.1.99)\n",
      "Requirement already satisfied: scipy in c:\\users\\hp\\anaconda3\\lib\\site-packages (from sentence-transformers) (1.9.1)\n",
      "Requirement already satisfied: huggingface-hub>=0.4.0 in c:\\users\\hp\\anaconda3\\lib\\site-packages (from sentence-transformers) (0.19.4)\n",
      "Requirement already satisfied: grpcio>=1.41.0 in c:\\users\\hp\\anaconda3\\lib\\site-packages (from qdrant-client) (1.59.3)\n",
      "Requirement already satisfied: portalocker<3.0.0,>=2.7.0 in c:\\users\\hp\\anaconda3\\lib\\site-packages (from qdrant-client) (2.8.2)\n",
      "Requirement already satisfied: grpcio-tools>=1.41.0 in c:\\users\\hp\\anaconda3\\lib\\site-packages (from qdrant-client) (1.59.3)\n",
      "Requirement already satisfied: urllib3<2.0.0,>=1.26.14 in c:\\users\\hp\\anaconda3\\lib\\site-packages (from qdrant-client) (1.26.18)\n",
      "Requirement already satisfied: httpx[http2]>=0.14.0 in c:\\users\\hp\\anaconda3\\lib\\site-packages (from qdrant-client) (0.25.1)\n",
      "Requirement already satisfied: pydantic>=1.10.8 in c:\\users\\hp\\anaconda3\\lib\\site-packages (from qdrant-client) (1.10.12)\n",
      "Requirement already satisfied: requests in c:\\users\\hp\\anaconda3\\lib\\site-packages (from folium) (2.28.1)\n",
      "Requirement already satisfied: branca>=0.6.0 in c:\\users\\hp\\anaconda3\\lib\\site-packages (from folium) (0.7.0)\n",
      "Requirement already satisfied: jinja2>=2.9 in c:\\users\\hp\\anaconda3\\lib\\site-packages (from folium) (2.11.3)\n",
      "Requirement already satisfied: protobuf<5.0dev,>=4.21.6 in c:\\users\\hp\\anaconda3\\lib\\site-packages (from grpcio-tools>=1.41.0->qdrant-client) (4.25.1)\n",
      "Requirement already satisfied: setuptools in c:\\users\\hp\\anaconda3\\lib\\site-packages (from grpcio-tools>=1.41.0->qdrant-client) (63.4.1)\n",
      "Requirement already satisfied: certifi in c:\\users\\hp\\anaconda3\\lib\\site-packages (from httpx[http2]>=0.14.0->qdrant-client) (2022.9.14)\n",
      "Requirement already satisfied: idna in c:\\users\\hp\\anaconda3\\lib\\site-packages (from httpx[http2]>=0.14.0->qdrant-client) (3.3)\n",
      "Requirement already satisfied: sniffio in c:\\users\\hp\\anaconda3\\lib\\site-packages (from httpx[http2]>=0.14.0->qdrant-client) (1.2.0)\n",
      "Requirement already satisfied: anyio in c:\\users\\hp\\anaconda3\\lib\\site-packages (from httpx[http2]>=0.14.0->qdrant-client) (3.5.0)\n",
      "Requirement already satisfied: httpcore in c:\\users\\hp\\anaconda3\\lib\\site-packages (from httpx[http2]>=0.14.0->qdrant-client) (1.0.2)\n",
      "Requirement already satisfied: h2<5,>=3 in c:\\users\\hp\\anaconda3\\lib\\site-packages (from httpx[http2]>=0.14.0->qdrant-client) (4.1.0)\n",
      "Requirement already satisfied: typing-extensions>=3.7.4.3 in c:\\users\\hp\\appdata\\roaming\\python\\python39\\site-packages (from huggingface-hub>=0.4.0->sentence-transformers) (4.8.0)\n",
      "Requirement already satisfied: packaging>=20.9 in c:\\users\\hp\\appdata\\roaming\\python\\python39\\site-packages (from huggingface-hub>=0.4.0->sentence-transformers) (23.2)\n",
      "Requirement already satisfied: fsspec>=2023.5.0 in c:\\users\\hp\\anaconda3\\lib\\site-packages (from huggingface-hub>=0.4.0->sentence-transformers) (2023.10.0)\n",
      "Requirement already satisfied: pyyaml>=5.1 in c:\\users\\hp\\anaconda3\\lib\\site-packages (from huggingface-hub>=0.4.0->sentence-transformers) (6.0)\n",
      "Requirement already satisfied: filelock in c:\\users\\hp\\anaconda3\\lib\\site-packages (from huggingface-hub>=0.4.0->sentence-transformers) (3.6.0)\n",
      "Requirement already satisfied: MarkupSafe>=0.23 in c:\\users\\hp\\anaconda3\\lib\\site-packages (from jinja2>=2.9->folium) (2.0.1)\n",
      "Requirement already satisfied: pywin32>=226 in c:\\users\\hp\\appdata\\roaming\\python\\python39\\site-packages (from portalocker<3.0.0,>=2.7.0->qdrant-client) (306)\n",
      "Requirement already satisfied: sympy in c:\\users\\hp\\anaconda3\\lib\\site-packages (from torch>=1.6.0->sentence-transformers) (1.10.1)\n",
      "Requirement already satisfied: networkx in c:\\users\\hp\\anaconda3\\lib\\site-packages (from torch>=1.6.0->sentence-transformers) (2.8.4)\n",
      "Requirement already satisfied: colorama in c:\\users\\hp\\appdata\\roaming\\python\\python39\\site-packages (from tqdm->sentence-transformers) (0.4.6)\n",
      "Requirement already satisfied: safetensors>=0.3.1 in c:\\users\\hp\\anaconda3\\lib\\site-packages (from transformers<5.0.0,>=4.6.0->sentence-transformers) (0.4.0)\n",
      "Requirement already satisfied: tokenizers<0.19,>=0.14 in c:\\users\\hp\\anaconda3\\lib\\site-packages (from transformers<5.0.0,>=4.6.0->sentence-transformers) (0.15.0)\n",
      "Requirement already satisfied: regex!=2019.12.17 in c:\\users\\hp\\anaconda3\\lib\\site-packages (from transformers<5.0.0,>=4.6.0->sentence-transformers) (2022.7.9)\n",
      "Requirement already satisfied: click in c:\\users\\hp\\anaconda3\\lib\\site-packages (from nltk->sentence-transformers) (8.0.4)\n",
      "Requirement already satisfied: joblib in c:\\users\\hp\\anaconda3\\lib\\site-packages (from nltk->sentence-transformers) (1.1.0)\n",
      "Requirement already satisfied: charset-normalizer<3,>=2 in c:\\users\\hp\\anaconda3\\lib\\site-packages (from requests->folium) (2.0.4)\n",
      "Requirement already satisfied: threadpoolctl>=2.0.0 in c:\\users\\hp\\anaconda3\\lib\\site-packages (from scikit-learn->sentence-transformers) (2.2.0)\n",
      "Requirement already satisfied: pillow!=8.3.*,>=5.3.0 in c:\\users\\hp\\anaconda3\\lib\\site-packages (from torchvision->sentence-transformers) (9.2.0)\n",
      "Requirement already satisfied: hpack<5,>=4.0 in c:\\users\\hp\\anaconda3\\lib\\site-packages (from h2<5,>=3->httpx[http2]>=0.14.0->qdrant-client) (4.0.0)\n",
      "Requirement already satisfied: hyperframe<7,>=6.0 in c:\\users\\hp\\anaconda3\\lib\\site-packages (from h2<5,>=3->httpx[http2]>=0.14.0->qdrant-client) (6.0.1)\n",
      "Requirement already satisfied: h11<0.15,>=0.13 in c:\\users\\hp\\anaconda3\\lib\\site-packages (from httpcore->httpx[http2]>=0.14.0->qdrant-client) (0.14.0)\n",
      "Requirement already satisfied: mpmath>=0.19 in c:\\users\\hp\\anaconda3\\lib\\site-packages (from sympy->torch>=1.6.0->sentence-transformers) (1.2.1)\n",
      "Note: you may need to restart the kernel to use updated packages.\n"
     ]
    }
   ],
   "source": [
    "%pip install sentence-transformers qdrant-client polars folium"
   ]
  },
  {
   "cell_type": "code",
   "execution_count": 27,
   "metadata": {},
   "outputs": [],
   "source": [
    "from qdrant_client import models, QdrantClient\n",
    "from sentence_transformers import SentenceTransformer\n",
    "import polars as pl\n",
    "import numpy as np"
   ]
  },
  {
   "cell_type": "code",
   "execution_count": 28,
   "metadata": {},
   "outputs": [],
   "source": [
    "encoder = SentenceTransformer(\"all-MiniLM-L6-v2\", device=\"cpu\")"
   ]
  },
  {
   "cell_type": "code",
   "execution_count": 29,
   "metadata": {},
   "outputs": [],
   "source": [
    "def convert(row):\n",
    "    return [\n",
    "        str(row[\"lat\"]),\n",
    "        str(row[\"lon\"]),\n",
    "        row[\"category\"],\n",
    "        row[\"sub_category\"],\n",
    "        row[\"name\"],\n",
    "    ]"
   ]
  },
  {
   "cell_type": "code",
   "execution_count": 30,
   "metadata": {},
   "outputs": [
    {
     "data": {
      "text/html": [
       "<div><style>\n",
       ".dataframe > thead > tr,\n",
       ".dataframe > tbody > tr {\n",
       "  text-align: right;\n",
       "  white-space: pre-wrap;\n",
       "}\n",
       "</style>\n",
       "<small>shape: (5, 82)</small><table border=\"1\" class=\"dataframe\"><thead><tr><th>id</th><th>lat</th><th>lon</th><th>addr:city</th><th>addr:country</th><th>addr:housenumber</th><th>addr:postcode</th><th>addr:street</th><th>brand</th><th>brand:wikidata</th><th>brand:wikipedia</th><th>cuisine</th><th>description</th><th>drive_through</th><th>name</th><th>note</th><th>operator</th><th>takeaway</th><th>wheelchair</th><th>bicycle</th><th>information</th><th>access</th><th>wikidata</th><th>wikimedia_commons</th><th>wikipedia</th><th>website</th><th>toilets:wheelchair</th><th>alt_name</th><th>check_date</th><th>opening_hours</th><th>changing_table</th><th>contact:phone</th><th>contact:website</th><th>delivery</th><th>diet:vegetarian</th><th>indoor_seating</th><th>internet_access</th><th>&hellip;</th><th>phone</th><th>heritage</th><th>heritage:operator</th><th>image</th><th>man_made</th><th>level</th><th>operator:wikidata</th><th>wifi</th><th>old_name</th><th>seamark:harbour:category</th><th>seamark:name</th><th>seamark:type</th><th>harbour</th><th>highway</th><th>name:fr</th><th>direction</th><th>capacity</th><th>reservation</th><th>smoking</th><th>toilets:access</th><th>backrest</th><th>colour</th><th>material</th><th>seats</th><th>delivery:covid19</th><th>opening_hours:covid19</th><th>takeaway:covid19</th><th>description:covid19</th><th>payment:cash</th><th>payment:maestro</th><th>payment:mastercard</th><th>contact:mobile</th><th>url</th><th>contact:email</th><th>addr:suburb</th><th>sub_category</th><th>category</th></tr><tr><td>i64</td><td>f64</td><td>f64</td><td>str</td><td>str</td><td>str</td><td>str</td><td>str</td><td>str</td><td>str</td><td>str</td><td>str</td><td>str</td><td>str</td><td>str</td><td>str</td><td>str</td><td>str</td><td>str</td><td>str</td><td>str</td><td>str</td><td>str</td><td>str</td><td>str</td><td>str</td><td>str</td><td>str</td><td>str</td><td>str</td><td>str</td><td>str</td><td>str</td><td>str</td><td>str</td><td>str</td><td>str</td><td>&hellip;</td><td>str</td><td>str</td><td>str</td><td>str</td><td>str</td><td>str</td><td>str</td><td>str</td><td>str</td><td>str</td><td>str</td><td>str</td><td>str</td><td>str</td><td>str</td><td>str</td><td>str</td><td>str</td><td>str</td><td>str</td><td>str</td><td>str</td><td>str</td><td>str</td><td>str</td><td>str</td><td>str</td><td>str</td><td>str</td><td>str</td><td>str</td><td>str</td><td>str</td><td>str</td><td>str</td><td>str</td><td>str</td></tr></thead><tbody><tr><td>23656136</td><td>49.858471</td><td>6.3649698</td><td>null</td><td>null</td><td>null</td><td>null</td><td>null</td><td>null</td><td>null</td><td>null</td><td>null</td><td>null</td><td>null</td><td>&quot;Waldsportplatz…</td><td>null</td><td>null</td><td>null</td><td>null</td><td>null</td><td>null</td><td>null</td><td>null</td><td>null</td><td>null</td><td>null</td><td>null</td><td>null</td><td>null</td><td>null</td><td>null</td><td>null</td><td>null</td><td>null</td><td>null</td><td>null</td><td>null</td><td>&hellip;</td><td>null</td><td>null</td><td>null</td><td>null</td><td>null</td><td>null</td><td>null</td><td>null</td><td>null</td><td>null</td><td>null</td><td>null</td><td>null</td><td>null</td><td>null</td><td>null</td><td>null</td><td>null</td><td>null</td><td>null</td><td>null</td><td>null</td><td>null</td><td>null</td><td>null</td><td>null</td><td>null</td><td>null</td><td>null</td><td>null</td><td>null</td><td>null</td><td>null</td><td>null</td><td>null</td><td>&quot;fitness_statio…</td><td>&quot;leisure&quot;</td></tr><tr><td>26860223</td><td>49.743478</td><td>6.0898523</td><td>null</td><td>null</td><td>null</td><td>null</td><td>null</td><td>null</td><td>null</td><td>null</td><td>null</td><td>null</td><td>null</td><td>&quot;Restaurant Cam…</td><td>null</td><td>null</td><td>null</td><td>null</td><td>null</td><td>null</td><td>null</td><td>null</td><td>null</td><td>null</td><td>null</td><td>null</td><td>null</td><td>null</td><td>null</td><td>null</td><td>null</td><td>null</td><td>null</td><td>null</td><td>null</td><td>null</td><td>&hellip;</td><td>null</td><td>null</td><td>null</td><td>null</td><td>null</td><td>null</td><td>null</td><td>null</td><td>null</td><td>null</td><td>null</td><td>null</td><td>null</td><td>null</td><td>null</td><td>null</td><td>null</td><td>null</td><td>null</td><td>null</td><td>null</td><td>null</td><td>null</td><td>null</td><td>null</td><td>null</td><td>null</td><td>null</td><td>null</td><td>null</td><td>null</td><td>null</td><td>null</td><td>null</td><td>null</td><td>&quot;restaurant&quot;</td><td>&quot;amenity&quot;</td></tr><tr><td>30432808</td><td>50.856197</td><td>5.8256972</td><td>null</td><td>null</td><td>null</td><td>null</td><td>null</td><td>null</td><td>null</td><td>null</td><td>null</td><td>null</td><td>null</td><td>&quot;Steenkolenmijn…</td><td>null</td><td>null</td><td>null</td><td>null</td><td>null</td><td>null</td><td>null</td><td>null</td><td>null</td><td>null</td><td>null</td><td>null</td><td>null</td><td>null</td><td>null</td><td>null</td><td>null</td><td>null</td><td>null</td><td>null</td><td>null</td><td>null</td><td>&hellip;</td><td>null</td><td>null</td><td>null</td><td>null</td><td>null</td><td>null</td><td>null</td><td>null</td><td>null</td><td>null</td><td>null</td><td>null</td><td>null</td><td>null</td><td>null</td><td>null</td><td>null</td><td>null</td><td>null</td><td>null</td><td>null</td><td>null</td><td>null</td><td>null</td><td>null</td><td>null</td><td>null</td><td>null</td><td>null</td><td>null</td><td>null</td><td>null</td><td>null</td><td>null</td><td>null</td><td>&quot;attraction&quot;</td><td>&quot;tourism&quot;</td></tr><tr><td>31425173</td><td>50.844029</td><td>5.6890789</td><td>null</td><td>null</td><td>null</td><td>null</td><td>null</td><td>null</td><td>null</td><td>null</td><td>null</td><td>null</td><td>null</td><td>&quot;Nieuwenhofpoor…</td><td>null</td><td>null</td><td>null</td><td>null</td><td>null</td><td>null</td><td>null</td><td>&quot;Q19630871&quot;</td><td>&quot;Category:Nieuw…</td><td>&quot;nl:Nieuwenhofp…</td><td>null</td><td>null</td><td>null</td><td>null</td><td>null</td><td>null</td><td>null</td><td>null</td><td>null</td><td>null</td><td>null</td><td>null</td><td>&hellip;</td><td>null</td><td>null</td><td>null</td><td>null</td><td>null</td><td>null</td><td>null</td><td>null</td><td>null</td><td>null</td><td>null</td><td>null</td><td>null</td><td>null</td><td>null</td><td>null</td><td>null</td><td>null</td><td>null</td><td>null</td><td>null</td><td>null</td><td>null</td><td>null</td><td>null</td><td>null</td><td>null</td><td>null</td><td>null</td><td>null</td><td>null</td><td>null</td><td>null</td><td>null</td><td>null</td><td>&quot;city_gate&quot;</td><td>&quot;historic&quot;</td></tr><tr><td>31575884</td><td>50.844551</td><td>5.6902818</td><td>null</td><td>null</td><td>null</td><td>null</td><td>null</td><td>null</td><td>null</td><td>null</td><td>null</td><td>null</td><td>null</td><td>&quot;Universiteitsb…</td><td>null</td><td>null</td><td>null</td><td>null</td><td>null</td><td>null</td><td>null</td><td>&quot;Q15734302&quot;</td><td>null</td><td>&quot;nl:Universitei…</td><td>&quot;https://librar…</td><td>null</td><td>null</td><td>null</td><td>null</td><td>null</td><td>null</td><td>null</td><td>null</td><td>null</td><td>null</td><td>null</td><td>&hellip;</td><td>null</td><td>null</td><td>null</td><td>null</td><td>null</td><td>null</td><td>null</td><td>null</td><td>null</td><td>null</td><td>null</td><td>null</td><td>null</td><td>null</td><td>null</td><td>null</td><td>null</td><td>null</td><td>null</td><td>null</td><td>null</td><td>null</td><td>null</td><td>null</td><td>null</td><td>null</td><td>null</td><td>null</td><td>null</td><td>null</td><td>null</td><td>null</td><td>null</td><td>null</td><td>null</td><td>&quot;library&quot;</td><td>&quot;amenity&quot;</td></tr></tbody></table></div>"
      ],
      "text/plain": [
       "shape: (5, 82)\n",
       "┌──────────┬───────────┬───────────┬───────────┬───┬────────────┬───────────┬───────────┬──────────┐\n",
       "│ id       ┆ lat       ┆ lon       ┆ addr:city ┆ … ┆ contact:em ┆ addr:subu ┆ sub_categ ┆ category │\n",
       "│ ---      ┆ ---       ┆ ---       ┆ ---       ┆   ┆ ail        ┆ rb        ┆ ory       ┆ ---      │\n",
       "│ i64      ┆ f64       ┆ f64       ┆ str       ┆   ┆ ---        ┆ ---       ┆ ---       ┆ str      │\n",
       "│          ┆           ┆           ┆           ┆   ┆ str        ┆ str       ┆ str       ┆          │\n",
       "╞══════════╪═══════════╪═══════════╪═══════════╪═══╪════════════╪═══════════╪═══════════╪══════════╡\n",
       "│ 23656136 ┆ 49.858471 ┆ 6.3649698 ┆ null      ┆ … ┆ null       ┆ null      ┆ fitness_s ┆ leisure  │\n",
       "│          ┆           ┆           ┆           ┆   ┆            ┆           ┆ tation    ┆          │\n",
       "│ 26860223 ┆ 49.743478 ┆ 6.0898523 ┆ null      ┆ … ┆ null       ┆ null      ┆ restauran ┆ amenity  │\n",
       "│          ┆           ┆           ┆           ┆   ┆            ┆           ┆ t         ┆          │\n",
       "│ 30432808 ┆ 50.856197 ┆ 5.8256972 ┆ null      ┆ … ┆ null       ┆ null      ┆ attractio ┆ tourism  │\n",
       "│          ┆           ┆           ┆           ┆   ┆            ┆           ┆ n         ┆          │\n",
       "│ 31425173 ┆ 50.844029 ┆ 5.6890789 ┆ null      ┆ … ┆ null       ┆ null      ┆ city_gate ┆ historic │\n",
       "│ 31575884 ┆ 50.844551 ┆ 5.6902818 ┆ null      ┆ … ┆ null       ┆ null      ┆ library   ┆ amenity  │\n",
       "└──────────┴───────────┴───────────┴───────────┴───┴────────────┴───────────┴───────────┴──────────┘"
      ]
     },
     "execution_count": 30,
     "metadata": {},
     "output_type": "execute_result"
    }
   ],
   "source": [
    "df_geo = pl.read_parquet(\"../../data/transformed/poi_clean_category_geo.parquet\")\n",
    "df = df_geo.drop([\"type\", \"geometry\"])\n",
    "df.head()"
   ]
  },
  {
   "cell_type": "code",
   "execution_count": 31,
   "metadata": {},
   "outputs": [
    {
     "data": {
      "application/vnd.jupyter.widget-view+json": {
       "model_id": "8a732f59dce04db7a1c5fd3c23a5102f",
       "version_major": 2,
       "version_minor": 0
      },
      "text/plain": [
       "Batches:   0%|          | 0/248 [00:00<?, ?it/s]"
      ]
     },
     "metadata": {},
     "output_type": "display_data"
    }
   ],
   "source": [
    "vectors = encoder.encode(\n",
    "    [convert(row) for row in df.iter_rows(named=True)],\n",
    "    batch_size=256,\n",
    "    show_progress_bar=True,\n",
    ")"
   ]
  },
  {
   "cell_type": "code",
   "execution_count": 32,
   "metadata": {},
   "outputs": [
    {
     "data": {
      "text/plain": [
       "(63330, 384)"
      ]
     },
     "execution_count": 32,
     "metadata": {},
     "output_type": "execute_result"
    }
   ],
   "source": [
    "vectors.shape"
   ]
  },
  {
   "cell_type": "code",
   "execution_count": 33,
   "metadata": {},
   "outputs": [],
   "source": [
    "np.save(\"poi_vectors.npy\", vectors, allow_pickle=False)"
   ]
  },
  {
   "cell_type": "code",
   "execution_count": 34,
   "metadata": {},
   "outputs": [],
   "source": [
    "qdrant = QdrantClient(\":memory:\")"
   ]
  },
  {
   "cell_type": "code",
   "execution_count": 35,
   "metadata": {},
   "outputs": [
    {
     "data": {
      "text/plain": [
       "True"
      ]
     },
     "execution_count": 35,
     "metadata": {},
     "output_type": "execute_result"
    }
   ],
   "source": [
    "qdrant.recreate_collection(\n",
    "    collection_name=\"poi\",\n",
    "    vectors_config=models.VectorParams(\n",
    "        size=encoder.get_sentence_embedding_dimension(),  # Vector size is defined by used model\n",
    "        distance=models.Distance.COSINE,\n",
    "    ),\n",
    ")"
   ]
  },
  {
   "cell_type": "code",
   "execution_count": 36,
   "metadata": {},
   "outputs": [],
   "source": [
    "def add_loc(row):\n",
    "    row[\"location\"] = {\"lat\": row[\"lat\"], \"lon\": row[\"lon\"]}\n",
    "    return row"
   ]
  },
  {
   "cell_type": "code",
   "execution_count": 37,
   "metadata": {},
   "outputs": [],
   "source": [
    "qdrant.upload_collection(\n",
    "    collection_name=\"poi\",\n",
    "    vectors=vectors,\n",
    "    payload=[add_loc(row) for row in df.to_dicts()],\n",
    "    ids=df[\"id\"].to_list(),\n",
    "    batch_size=256,\n",
    ")"
   ]
  },
  {
   "cell_type": "code",
   "execution_count": 38,
   "metadata": {},
   "outputs": [],
   "source": [
    "class NeuralSearcher:\n",
    "    def __init__(self, collection_name):\n",
    "        self.collection_name = collection_name\n",
    "        # Initialize encoder model\n",
    "        self.model = SentenceTransformer(\"all-MiniLM-L6-v2\", device=\"cuda\")\n",
    "        # initialize Qdrant client\n",
    "        self.qdrant_client = qdrant\n",
    "\n",
    "    def search(self, pos, neg, around):\n",
    "        # Use `vector` for search for closest vectors in the collection\n",
    "        search_result = self.qdrant_client.recommend(\n",
    "            collection_name=self.collection_name,\n",
    "            positive=pos,\n",
    "            negative=neg,\n",
    "            strategy=models.RecommendStrategy.AVERAGE_VECTOR,\n",
    "            query_filter=models.Filter(\n",
    "                must=[\n",
    "                    models.FieldCondition(\n",
    "                        key=\"location\",\n",
    "                        geo_radius=models.GeoRadius(\n",
    "                            center=models.GeoPoint(\n",
    "                                lon=around[1],\n",
    "                                lat=around[0],\n",
    "                            ),\n",
    "                            radius=1000.0,\n",
    "                        ),\n",
    "                    ),\n",
    "                ],\n",
    "                # must_not=[\n",
    "                #     models.FieldCondition(\n",
    "                #         key=\"category\",\n",
    "                #         match=models.MatchValue(\n",
    "                #             value=\"amenity\",\n",
    "                #         ),\n",
    "                #     )\n",
    "                # ],\n",
    "            ),\n",
    "            limit=5,  # 5 the most closest results is enough\n",
    "        )\n",
    "        # `search_result` contains found vector ids with similarity scores along with the stored payload\n",
    "        # In this function you are interested in payload only\n",
    "        payloads = [hit.payload for hit in search_result]\n",
    "        return payloads"
   ]
  },
  {
   "cell_type": "code",
   "execution_count": 39,
   "metadata": {},
   "outputs": [],
   "source": [
    "neural_searcher = NeuralSearcher(collection_name=\"poi\")"
   ]
  },
  {
   "cell_type": "code",
   "execution_count": 40,
   "metadata": {},
   "outputs": [
    {
     "data": {
      "text/html": [
       "<div><style>\n",
       ".dataframe > thead > tr,\n",
       ".dataframe > tbody > tr {\n",
       "  text-align: right;\n",
       "  white-space: pre-wrap;\n",
       "}\n",
       "</style>\n",
       "<small>shape: (4, 4)</small><table border=\"1\" class=\"dataframe\"><thead><tr><th>id</th><th>name</th><th>category</th><th>sub_category</th></tr><tr><td>i64</td><td>str</td><td>str</td><td>str</td></tr></thead><tbody><tr><td>409005527</td><td>&quot;Le Gros Vélo&quot;</td><td>&quot;amenity&quot;</td><td>&quot;cafe&quot;</td></tr><tr><td>488390305</td><td>&quot;La croix St-Cl…</td><td>&quot;historic&quot;</td><td>&quot;wayside_cross&quot;</td></tr><tr><td>490992842</td><td>&quot;La Roche qui T…</td><td>&quot;tourism&quot;</td><td>&quot;attraction&quot;</td></tr><tr><td>491571270</td><td>&quot;Château du Lav…</td><td>&quot;historic&quot;</td><td>&quot;castle&quot;</td></tr></tbody></table></div>"
      ],
      "text/plain": [
       "shape: (4, 4)\n",
       "┌───────────┬─────────────────────┬──────────┬───────────────┐\n",
       "│ id        ┆ name                ┆ category ┆ sub_category  │\n",
       "│ ---       ┆ ---                 ┆ ---      ┆ ---           │\n",
       "│ i64       ┆ str                 ┆ str      ┆ str           │\n",
       "╞═══════════╪═════════════════════╪══════════╪═══════════════╡\n",
       "│ 409005527 ┆ Le Gros Vélo        ┆ amenity  ┆ cafe          │\n",
       "│ 488390305 ┆ La croix St-Claude  ┆ historic ┆ wayside_cross │\n",
       "│ 490992842 ┆ La Roche qui Tourne ┆ tourism  ┆ attraction    │\n",
       "│ 491571270 ┆ Château du Laval    ┆ historic ┆ castle        │\n",
       "└───────────┴─────────────────────┴──────────┴───────────────┘"
      ]
     },
     "execution_count": 40,
     "metadata": {},
     "output_type": "execute_result"
    }
   ],
   "source": [
    "pos = [409005527, 488390305, 491571270, 490992842]\n",
    "df.select([\"id\", \"name\", \"category\", \"sub_category\"]).filter(pl.col(\"id\").is_in(pos))"
   ]
  },
  {
   "cell_type": "code",
   "execution_count": 41,
   "metadata": {},
   "outputs": [
    {
     "data": {
      "text/html": [
       "<div><style>\n",
       ".dataframe > thead > tr,\n",
       ".dataframe > tbody > tr {\n",
       "  text-align: right;\n",
       "  white-space: pre-wrap;\n",
       "}\n",
       "</style>\n",
       "<small>shape: (4, 4)</small><table border=\"1\" class=\"dataframe\"><thead><tr><th>id</th><th>name</th><th>category</th><th>sub_category</th></tr><tr><td>i64</td><td>str</td><td>str</td><td>str</td></tr></thead><tbody><tr><td>494911196</td><td>&quot;FrietJess&quot;</td><td>&quot;amenity&quot;</td><td>&quot;fast_food&quot;</td></tr><tr><td>494911197</td><td>&quot;Pizza Plaza&quot;</td><td>&quot;amenity&quot;</td><td>&quot;restaurant&quot;</td></tr><tr><td>498293266</td><td>&quot;Frit city juni…</td><td>&quot;amenity&quot;</td><td>&quot;fast_food&quot;</td></tr><tr><td>516617417</td><td>&quot;Pizza Hut&quot;</td><td>&quot;amenity&quot;</td><td>&quot;restaurant&quot;</td></tr></tbody></table></div>"
      ],
      "text/plain": [
       "shape: (4, 4)\n",
       "┌───────────┬──────────────────┬──────────┬──────────────┐\n",
       "│ id        ┆ name             ┆ category ┆ sub_category │\n",
       "│ ---       ┆ ---              ┆ ---      ┆ ---          │\n",
       "│ i64       ┆ str              ┆ str      ┆ str          │\n",
       "╞═══════════╪══════════════════╪══════════╪══════════════╡\n",
       "│ 494911196 ┆ FrietJess        ┆ amenity  ┆ fast_food    │\n",
       "│ 494911197 ┆ Pizza Plaza      ┆ amenity  ┆ restaurant   │\n",
       "│ 498293266 ┆ Frit city junior ┆ amenity  ┆ fast_food    │\n",
       "│ 516617417 ┆ Pizza Hut        ┆ amenity  ┆ restaurant   │\n",
       "└───────────┴──────────────────┴──────────┴──────────────┘"
      ]
     },
     "execution_count": 41,
     "metadata": {},
     "output_type": "execute_result"
    }
   ],
   "source": [
    "neg = [494911197, 498293266, 494911196, 516617417]\n",
    "df.select([\"id\", \"name\", \"category\", \"sub_category\"]).filter(pl.col(\"id\").is_in(neg))"
   ]
  },
  {
   "cell_type": "code",
   "execution_count": 42,
   "metadata": {},
   "outputs": [
    {
     "data": {
      "text/plain": [
       "5"
      ]
     },
     "execution_count": 42,
     "metadata": {},
     "output_type": "execute_result"
    }
   ],
   "source": [
    "items = neural_searcher.search(\n",
    "    pos=pos,\n",
    "    neg=neg,\n",
    "    around=[50.467388, 4.871985],\n",
    ")\n",
    "[\n",
    "    [\n",
    "        item[\"id\"],\n",
    "        item[\"name\"],\n",
    "        item[\"lat\"],\n",
    "        item[\"lon\"],\n",
    "        item[\"category\"],\n",
    "        item[\"sub_category\"],\n",
    "    ]\n",
    "    for item in items\n",
    "]\n",
    "len(items)"
   ]
  },
  {
   "cell_type": "code",
   "execution_count": 44,
   "metadata": {},
   "outputs": [
    {
     "data": {
      "text/html": [
       "<div style=\"width:100%;\"><div style=\"position:relative;width:100%;height:0;padding-bottom:60%;\"><span style=\"color:#565656\">Make this Notebook Trusted to load map: File -> Trust Notebook</span><iframe srcdoc=\"&lt;!DOCTYPE html&gt;\n",
       "&lt;html&gt;\n",
       "&lt;head&gt;\n",
       "    \n",
       "    &lt;meta http-equiv=&quot;content-type&quot; content=&quot;text/html; charset=UTF-8&quot; /&gt;\n",
       "    \n",
       "        &lt;script&gt;\n",
       "            L_NO_TOUCH = false;\n",
       "            L_DISABLE_3D = false;\n",
       "        &lt;/script&gt;\n",
       "    \n",
       "    &lt;style&gt;html, body {width: 100%;height: 100%;margin: 0;padding: 0;}&lt;/style&gt;\n",
       "    &lt;style&gt;#map {position:absolute;top:0;bottom:0;right:0;left:0;}&lt;/style&gt;\n",
       "    &lt;script src=&quot;https://cdn.jsdelivr.net/npm/leaflet@1.9.3/dist/leaflet.js&quot;&gt;&lt;/script&gt;\n",
       "    &lt;script src=&quot;https://code.jquery.com/jquery-3.7.1.min.js&quot;&gt;&lt;/script&gt;\n",
       "    &lt;script src=&quot;https://cdn.jsdelivr.net/npm/bootstrap@5.2.2/dist/js/bootstrap.bundle.min.js&quot;&gt;&lt;/script&gt;\n",
       "    &lt;script src=&quot;https://cdnjs.cloudflare.com/ajax/libs/Leaflet.awesome-markers/2.0.2/leaflet.awesome-markers.js&quot;&gt;&lt;/script&gt;\n",
       "    &lt;link rel=&quot;stylesheet&quot; href=&quot;https://cdn.jsdelivr.net/npm/leaflet@1.9.3/dist/leaflet.css&quot;/&gt;\n",
       "    &lt;link rel=&quot;stylesheet&quot; href=&quot;https://cdn.jsdelivr.net/npm/bootstrap@5.2.2/dist/css/bootstrap.min.css&quot;/&gt;\n",
       "    &lt;link rel=&quot;stylesheet&quot; href=&quot;https://netdna.bootstrapcdn.com/bootstrap/3.0.0/css/bootstrap.min.css&quot;/&gt;\n",
       "    &lt;link rel=&quot;stylesheet&quot; href=&quot;https://cdn.jsdelivr.net/npm/@fortawesome/fontawesome-free@6.2.0/css/all.min.css&quot;/&gt;\n",
       "    &lt;link rel=&quot;stylesheet&quot; href=&quot;https://cdnjs.cloudflare.com/ajax/libs/Leaflet.awesome-markers/2.0.2/leaflet.awesome-markers.css&quot;/&gt;\n",
       "    &lt;link rel=&quot;stylesheet&quot; href=&quot;https://cdn.jsdelivr.net/gh/python-visualization/folium/folium/templates/leaflet.awesome.rotate.min.css&quot;/&gt;\n",
       "    \n",
       "            &lt;meta name=&quot;viewport&quot; content=&quot;width=device-width,\n",
       "                initial-scale=1.0, maximum-scale=1.0, user-scalable=no&quot; /&gt;\n",
       "            &lt;style&gt;\n",
       "                #map_16c287b95e1e6d3d0d3af6d2f856d574 {\n",
       "                    position: relative;\n",
       "                    width: 100.0%;\n",
       "                    height: 100.0%;\n",
       "                    left: 0.0%;\n",
       "                    top: 0.0%;\n",
       "                }\n",
       "                .leaflet-container { font-size: 1rem; }\n",
       "            &lt;/style&gt;\n",
       "        \n",
       "&lt;/head&gt;\n",
       "&lt;body&gt;\n",
       "    \n",
       "    \n",
       "            &lt;div class=&quot;folium-map&quot; id=&quot;map_16c287b95e1e6d3d0d3af6d2f856d574&quot; &gt;&lt;/div&gt;\n",
       "        \n",
       "&lt;/body&gt;\n",
       "&lt;script&gt;\n",
       "    \n",
       "    \n",
       "            var map_16c287b95e1e6d3d0d3af6d2f856d574 = L.map(\n",
       "                &quot;map_16c287b95e1e6d3d0d3af6d2f856d574&quot;,\n",
       "                {\n",
       "                    center: [50.4672164, 4.8592783],\n",
       "                    crs: L.CRS.EPSG3857,\n",
       "                    zoom: 15,\n",
       "                    zoomControl: true,\n",
       "                    preferCanvas: false,\n",
       "                }\n",
       "            );\n",
       "\n",
       "            \n",
       "\n",
       "        \n",
       "    \n",
       "            var tile_layer_b84f9ba24ce53f441869ebea0d27dfdf = L.tileLayer(\n",
       "                &quot;https://{s}.tile.openstreetmap.org/{z}/{x}/{y}.png&quot;,\n",
       "                {&quot;attribution&quot;: &quot;Data by \\u0026copy; \\u003ca target=\\&quot;_blank\\&quot; href=\\&quot;http://openstreetmap.org\\&quot;\\u003eOpenStreetMap\\u003c/a\\u003e, under \\u003ca target=\\&quot;_blank\\&quot; href=\\&quot;http://www.openstreetmap.org/copyright\\&quot;\\u003eODbL\\u003c/a\\u003e.&quot;, &quot;detectRetina&quot;: false, &quot;maxNativeZoom&quot;: 18, &quot;maxZoom&quot;: 18, &quot;minZoom&quot;: 0, &quot;noWrap&quot;: false, &quot;opacity&quot;: 1, &quot;subdomains&quot;: &quot;abc&quot;, &quot;tms&quot;: false}\n",
       "            );\n",
       "        \n",
       "    \n",
       "                tile_layer_b84f9ba24ce53f441869ebea0d27dfdf.addTo(map_16c287b95e1e6d3d0d3af6d2f856d574);\n",
       "    \n",
       "            var marker_7c2ae400eb55ee75f50b0e7bc7cecc13 = L.marker(\n",
       "                [50.4672164, 4.8592783],\n",
       "                {}\n",
       "            ).addTo(map_16c287b95e1e6d3d0d3af6d2f856d574);\n",
       "        \n",
       "    \n",
       "        var popup_43e485fdf4b1652dedcfaaec4fe8cb08 = L.popup({&quot;maxWidth&quot;: &quot;100%&quot;});\n",
       "\n",
       "        \n",
       "            \n",
       "                var html_c8f5cf192936c60febdb1ce0a6d3381e = $(`&lt;div id=&quot;html_c8f5cf192936c60febdb1ce0a6d3381e&quot; style=&quot;width: 100.0%; height: 100.0%;&quot;&gt;10922394383 Pasta Liza&lt;/div&gt;`)[0];\n",
       "                popup_43e485fdf4b1652dedcfaaec4fe8cb08.setContent(html_c8f5cf192936c60febdb1ce0a6d3381e);\n",
       "            \n",
       "        \n",
       "\n",
       "        marker_7c2ae400eb55ee75f50b0e7bc7cecc13.bindPopup(popup_43e485fdf4b1652dedcfaaec4fe8cb08)\n",
       "        ;\n",
       "\n",
       "        \n",
       "    \n",
       "    \n",
       "            var marker_496e45c6bc40e3e76faa022ccb99c500 = L.marker(\n",
       "                [50.4702701, 4.8649146],\n",
       "                {}\n",
       "            ).addTo(map_16c287b95e1e6d3d0d3af6d2f856d574);\n",
       "        \n",
       "    \n",
       "        var popup_c756e3f3d04143096194c7df87c87415 = L.popup({&quot;maxWidth&quot;: &quot;100%&quot;});\n",
       "\n",
       "        \n",
       "            \n",
       "                var html_8a328db3d3d3eb445206278805740dc4 = $(`&lt;div id=&quot;html_8a328db3d3d3eb445206278805740dc4&quot; style=&quot;width: 100.0%; height: 100.0%;&quot;&gt;9789606955 Balkan grill&lt;/div&gt;`)[0];\n",
       "                popup_c756e3f3d04143096194c7df87c87415.setContent(html_8a328db3d3d3eb445206278805740dc4);\n",
       "            \n",
       "        \n",
       "\n",
       "        marker_496e45c6bc40e3e76faa022ccb99c500.bindPopup(popup_c756e3f3d04143096194c7df87c87415)\n",
       "        ;\n",
       "\n",
       "        \n",
       "    \n",
       "    \n",
       "            var marker_7124ea0c446c74ba2b2fc0a5e85f10d6 = L.marker(\n",
       "                [50.4632865, 4.8646586],\n",
       "                {}\n",
       "            ).addTo(map_16c287b95e1e6d3d0d3af6d2f856d574);\n",
       "        \n",
       "    \n",
       "        var popup_2d7581e7a782df28cbe0e4205a399d1a = L.popup({&quot;maxWidth&quot;: &quot;100%&quot;});\n",
       "\n",
       "        \n",
       "            \n",
       "                var html_ca3104a3ee014641d7997066d7dd81ff = $(`&lt;div id=&quot;html_ca3104a3ee014641d7997066d7dd81ff&quot; style=&quot;width: 100.0%; height: 100.0%;&quot;&gt;1812473011 Jack a dit&lt;/div&gt;`)[0];\n",
       "                popup_2d7581e7a782df28cbe0e4205a399d1a.setContent(html_ca3104a3ee014641d7997066d7dd81ff);\n",
       "            \n",
       "        \n",
       "\n",
       "        marker_7124ea0c446c74ba2b2fc0a5e85f10d6.bindPopup(popup_2d7581e7a782df28cbe0e4205a399d1a)\n",
       "        ;\n",
       "\n",
       "        \n",
       "    \n",
       "    \n",
       "            var marker_bea6696f428904de93434ff88ec8a5dc = L.marker(\n",
       "                [50.4660624, 4.8649878],\n",
       "                {}\n",
       "            ).addTo(map_16c287b95e1e6d3d0d3af6d2f856d574);\n",
       "        \n",
       "    \n",
       "        var popup_41d111bea3b3a57a718d5a4ae9f013c1 = L.popup({&quot;maxWidth&quot;: &quot;100%&quot;});\n",
       "\n",
       "        \n",
       "            \n",
       "                var html_c03c4c37cefbf9cb0529cf5eb39d086c = $(`&lt;div id=&quot;html_c03c4c37cefbf9cb0529cf5eb39d086c&quot; style=&quot;width: 100.0%; height: 100.0%;&quot;&gt;1187583605 Dell&#x27;I Pasta&lt;/div&gt;`)[0];\n",
       "                popup_41d111bea3b3a57a718d5a4ae9f013c1.setContent(html_c03c4c37cefbf9cb0529cf5eb39d086c);\n",
       "            \n",
       "        \n",
       "\n",
       "        marker_bea6696f428904de93434ff88ec8a5dc.bindPopup(popup_41d111bea3b3a57a718d5a4ae9f013c1)\n",
       "        ;\n",
       "\n",
       "        \n",
       "    \n",
       "    \n",
       "            var marker_6f9037b2e227f84400022066a21460c8 = L.marker(\n",
       "                [50.4681464, 4.8656906],\n",
       "                {}\n",
       "            ).addTo(map_16c287b95e1e6d3d0d3af6d2f856d574);\n",
       "        \n",
       "    \n",
       "        var popup_f17f86ff61a6e5f4c2232882307e8409 = L.popup({&quot;maxWidth&quot;: &quot;100%&quot;});\n",
       "\n",
       "        \n",
       "            \n",
       "                var html_6e17f9f94daec4a8ec9482668ba36bf8 = $(`&lt;div id=&quot;html_6e17f9f94daec4a8ec9482668ba36bf8&quot; style=&quot;width: 100.0%; height: 100.0%;&quot;&gt;8026432773 FNTDR Aux déportés et réfractaires&lt;/div&gt;`)[0];\n",
       "                popup_f17f86ff61a6e5f4c2232882307e8409.setContent(html_6e17f9f94daec4a8ec9482668ba36bf8);\n",
       "            \n",
       "        \n",
       "\n",
       "        marker_6f9037b2e227f84400022066a21460c8.bindPopup(popup_f17f86ff61a6e5f4c2232882307e8409)\n",
       "        ;\n",
       "\n",
       "        \n",
       "    \n",
       "&lt;/script&gt;\n",
       "&lt;/html&gt;\" style=\"position:absolute;width:100%;height:100%;left:0;top:0;border:none !important;\" allowfullscreen webkitallowfullscreen mozallowfullscreen></iframe></div></div>"
      ],
      "text/plain": [
       "<folium.folium.Map at 0x1b5a42c17f0>"
      ]
     },
     "execution_count": 44,
     "metadata": {},
     "output_type": "execute_result"
    }
   ],
   "source": [
    "import folium\n",
    "\n",
    "# create a map centered on the item's location\n",
    "m = folium.Map(location=[items[0][\"lat\"], items[0][\"lon\"]], zoom_start=15)\n",
    "\n",
    "# add a marker for the item's location\n",
    "for item in items:\n",
    "    folium.Marker(\n",
    "        location=[item[\"lat\"], item[\"lon\"]], popup=str(item[\"id\"]) + \" \" + item[\"name\"]\n",
    "    ).add_to(m)\n",
    "\n",
    "# display the map\n",
    "m"
   ]
  },
  {
   "cell_type": "code",
   "execution_count": null,
   "metadata": {},
   "outputs": [],
   "source": []
  },
  {
   "cell_type": "code",
   "execution_count": null,
   "metadata": {},
   "outputs": [],
   "source": []
  },
  {
   "cell_type": "code",
   "execution_count": null,
   "metadata": {},
   "outputs": [],
   "source": []
  }
 ],
 "metadata": {
  "kernelspec": {
   "display_name": "Python 3 (ipykernel)",
   "language": "python",
   "name": "python3"
  },
  "language_info": {
   "codemirror_mode": {
    "name": "ipython",
    "version": 3
   },
   "file_extension": ".py",
   "mimetype": "text/x-python",
   "name": "python",
   "nbconvert_exporter": "python",
   "pygments_lexer": "ipython3",
   "version": "3.9.13"
  }
 },
 "nbformat": 4,
 "nbformat_minor": 2
}
