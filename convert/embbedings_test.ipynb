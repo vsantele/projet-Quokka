{
 "cells": [
  {
   "cell_type": "code",
   "execution_count": 44,
   "metadata": {},
   "outputs": [
    {
     "name": "stdout",
     "output_type": "stream",
     "text": [
      "Requirement already satisfied: gensim in c:\\users\\victo\\miniconda3\\lib\\site-packages (4.3.2)\n",
      "Requirement already satisfied: polars in c:\\users\\victo\\miniconda3\\lib\\site-packages (0.19.12)\n",
      "Requirement already satisfied: smart-open>=1.8.1 in c:\\users\\victo\\miniconda3\\lib\\site-packages (from gensim) (6.4.0)\n",
      "Requirement already satisfied: numpy>=1.18.5 in c:\\users\\victo\\miniconda3\\lib\\site-packages (from gensim) (1.26.1)\n",
      "Requirement already satisfied: scipy>=1.7.0 in c:\\users\\victo\\miniconda3\\lib\\site-packages (from gensim) (1.11.3)\n",
      "Note: you may need to restart the kernel to use updated packages.\n"
     ]
    }
   ],
   "source": [
    "%pip install gensim polars"
   ]
  },
  {
   "cell_type": "code",
   "execution_count": 2,
   "metadata": {},
   "outputs": [],
   "source": [
    "import pandas as pd\n",
    "import polars as pl\n",
    "import numpy as np\n",
    "import gensim"
   ]
  },
  {
   "cell_type": "code",
   "execution_count": 3,
   "metadata": {},
   "outputs": [],
   "source": [
    "# Load the osm.parquet file into a polars DataFrame\n",
    "df = pl.read_parquet(\"../data/transformed/osm_clean.parquet\")"
   ]
  },
  {
   "cell_type": "code",
   "execution_count": 4,
   "metadata": {},
   "outputs": [],
   "source": [
    "df = df.with_columns(\n",
    "    pl.col(\"name\").fill_null(pl.col(\"alt_name\")).fill_null(pl.col(\"description\"))\n",
    ")"
   ]
  },
  {
   "cell_type": "code",
   "execution_count": 48,
   "metadata": {},
   "outputs": [],
   "source": [
    "# Filter the DataFrame to only include rows with POI data\n",
    "poi_df = df.filter(\n",
    "    pl.col(\"amenity\").is_not_null()\n",
    "    | pl.col(\"tourism\").is_not_null()\n",
    "    | pl.col(\"historic\").is_not_null()\n",
    "    | pl.col(\"leisure\").is_not_null()\n",
    ")\n",
    "\n",
    "# Create a new column \"poi\" that combines the values of \"amenity\", \"tourism\", \"leisure\" and \"historic\"\n",
    "poi_df = poi_df.with_columns(\n",
    "    pl.when(pl.col(\"amenity\").is_not_null())\n",
    "    .then(pl.col(\"amenity\"))\n",
    "    .when(pl.col(\"tourism\").is_not_null())\n",
    "    .then(pl.col(\"tourism\"))\n",
    "    .when(pl.col(\"historic\").is_not_null())\n",
    "    .then(pl.col(\"historic\"))\n",
    "    .when(pl.col(\"leisure\").is_not_null())\n",
    "    .then(pl.col(\"leisure\"))\n",
    "    .alias(\"sub_category\"),\n",
    "    pl.when(pl.col(\"amenity\").is_not_null())\n",
    "    .then(pl.lit(\"amenity\"))\n",
    "    .when(pl.col(\"tourism\").is_not_null())\n",
    "    .then(pl.lit(\"tourism\"))\n",
    "    .when(pl.col(\"historic\").is_not_null())\n",
    "    .then(pl.lit(\"historic\"))\n",
    "    .when(pl.col(\"leisure\").is_not_null())\n",
    "    .then(pl.lit(\"leisure\"))\n",
    "    .alias(\"category\"),\n",
    ")\n",
    "\n",
    "# drop the columns \"amenity\", \"tourism\", \"historic\" and \"leisure\"\n",
    "poi_df = poi_df.drop(\n",
    "    [\n",
    "        \"amenity\",\n",
    "        \"tourism\",\n",
    "        \"historic\",\n",
    "        \"leisure\",\n",
    "    ]\n",
    ")"
   ]
  },
  {
   "cell_type": "code",
   "execution_count": 49,
   "metadata": {},
   "outputs": [],
   "source": [
    "poi_df = poi_df.filter(pl.col(\"rcn_ref\").is_null())\n",
    "poi_df = poi_df.drop(\n",
    "    [\n",
    "        \"rcn_ref\",\n",
    "        \"rce:ref\",\n",
    "        \"contact:fax\",\n",
    "        \"created_by\",\n",
    "        \"ref\",\n",
    "        \"button_operated\",\n",
    "        \"crossing\",\n",
    "        \"tactile_paving\",\n",
    "        \"traffic_signals:sound\",\n",
    "        \"traffic_signals:vibration\",\n",
    "        \"fax\",\n",
    "        \".*:covid19$\",\n",
    "        \"musical_instrument\",\n",
    "        \"__index_level_0__\",\n",
    "        \"source\",\n",
    "        \"source:date\",\n",
    "        \"network:type\",\n",
    "    ]\n",
    ")"
   ]
  },
  {
   "cell_type": "code",
   "execution_count": 50,
   "metadata": {},
   "outputs": [],
   "source": [
    "poi_df.write_parquet(\"../data/transformed/poi_clean_category.parquet\")\n",
    "poi_df.write_csv(\"../data/transformed/poi_clean_category.csv\")"
   ]
  }
 ],
 "metadata": {
  "kernelspec": {
   "display_name": "Python 3",
   "language": "python",
   "name": "python3"
  },
  "language_info": {
   "codemirror_mode": {
    "name": "ipython",
    "version": 3
   },
   "file_extension": ".py",
   "mimetype": "text/x-python",
   "name": "python",
   "nbconvert_exporter": "python",
   "pygments_lexer": "ipython3",
   "version": "3.9.5"
  }
 },
 "nbformat": 4,
 "nbformat_minor": 2
}
