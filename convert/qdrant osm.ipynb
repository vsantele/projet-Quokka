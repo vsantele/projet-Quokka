{
 "cells": [
  {
   "cell_type": "code",
   "execution_count": 90,
   "metadata": {},
   "outputs": [
    {
     "name": "stderr",
     "output_type": "stream",
     "text": [
      "huggingface/tokenizers: The current process just got forked, after parallelism has already been used. Disabling parallelism to avoid deadlocks...\n",
      "To disable this warning, you can either:\n",
      "\t- Avoid using `tokenizers` before the fork if possible\n",
      "\t- Explicitly set the environment variable TOKENIZERS_PARALLELISM=(true | false)\n"
     ]
    },
    {
     "name": "stdout",
     "output_type": "stream",
     "text": [
      "Requirement already satisfied: sentence-transformers in /opt/conda/lib/python3.10/site-packages (2.2.2)\n",
      "Requirement already satisfied: qdrant-client in /opt/conda/lib/python3.10/site-packages (1.6.4)\n",
      "Requirement already satisfied: polars in /opt/conda/lib/python3.10/site-packages (0.19.13)\n",
      "Collecting folium\n",
      "  Downloading folium-0.15.0-py2.py3-none-any.whl (100 kB)\n",
      "\u001b[2K     \u001b[90m━━━━━━━━━━━━━━━━━━━━━━━━━━━━━━━━━━━━━━━\u001b[0m \u001b[32m100.3/100.3 kB\u001b[0m \u001b[31m2.6 MB/s\u001b[0m eta \u001b[36m0:00:00\u001b[0ma \u001b[36m0:00:01\u001b[0m\n",
      "\u001b[?25hRequirement already satisfied: nltk in /opt/conda/lib/python3.10/site-packages (from sentence-transformers) (3.8.1)\n",
      "Requirement already satisfied: scipy in /opt/conda/lib/python3.10/site-packages (from sentence-transformers) (1.10.1)\n",
      "Requirement already satisfied: tqdm in /opt/conda/lib/python3.10/site-packages (from sentence-transformers) (4.65.0)\n",
      "Requirement already satisfied: sentencepiece in /opt/conda/lib/python3.10/site-packages (from sentence-transformers) (0.1.99)\n",
      "Requirement already satisfied: huggingface-hub>=0.4.0 in /opt/conda/lib/python3.10/site-packages (from sentence-transformers) (0.17.3)\n",
      "Requirement already satisfied: torchvision in /opt/conda/lib/python3.10/site-packages (from sentence-transformers) (0.14.1+cu116)\n",
      "Requirement already satisfied: numpy in /opt/conda/lib/python3.10/site-packages (from sentence-transformers) (1.23.5)\n",
      "Requirement already satisfied: transformers<5.0.0,>=4.6.0 in /opt/conda/lib/python3.10/site-packages (from sentence-transformers) (4.35.0)\n",
      "Requirement already satisfied: torch>=1.6.0 in /opt/conda/lib/python3.10/site-packages (from sentence-transformers) (1.13.1+cu116)\n",
      "Requirement already satisfied: scikit-learn in /opt/conda/lib/python3.10/site-packages (from sentence-transformers) (1.2.2)\n",
      "Requirement already satisfied: grpcio>=1.41.0 in /opt/conda/lib/python3.10/site-packages (from qdrant-client) (1.59.2)\n",
      "Requirement already satisfied: httpx[http2]>=0.14.0 in /opt/conda/lib/python3.10/site-packages (from qdrant-client) (0.25.1)\n",
      "Requirement already satisfied: portalocker<3.0.0,>=2.7.0 in /opt/conda/lib/python3.10/site-packages (from qdrant-client) (2.8.2)\n",
      "Requirement already satisfied: urllib3<2.0.0,>=1.26.14 in /opt/conda/lib/python3.10/site-packages (from qdrant-client) (1.26.15)\n",
      "Requirement already satisfied: grpcio-tools>=1.41.0 in /opt/conda/lib/python3.10/site-packages (from qdrant-client) (1.59.2)\n",
      "Requirement already satisfied: pydantic>=1.10.8 in /opt/conda/lib/python3.10/site-packages (from qdrant-client) (2.4.2)\n",
      "Requirement already satisfied: requests in /opt/conda/lib/python3.10/site-packages (from folium) (2.28.2)\n",
      "Requirement already satisfied: jinja2>=2.9 in /opt/conda/lib/python3.10/site-packages (from folium) (3.1.2)\n",
      "Requirement already satisfied: branca>=0.6.0 in /opt/conda/lib/python3.10/site-packages (from folium) (0.6.0)\n",
      "Requirement already satisfied: setuptools in /opt/conda/lib/python3.10/site-packages (from grpcio-tools>=1.41.0->qdrant-client) (67.6.1)\n",
      "Requirement already satisfied: protobuf<5.0dev,>=4.21.6 in /opt/conda/lib/python3.10/site-packages (from grpcio-tools>=1.41.0->qdrant-client) (4.25.0)\n",
      "Requirement already satisfied: sniffio in /opt/conda/lib/python3.10/site-packages (from httpx[http2]>=0.14.0->qdrant-client) (1.3.0)\n",
      "Requirement already satisfied: certifi in /opt/conda/lib/python3.10/site-packages (from httpx[http2]>=0.14.0->qdrant-client) (2022.12.7)\n",
      "Requirement already satisfied: httpcore in /opt/conda/lib/python3.10/site-packages (from httpx[http2]>=0.14.0->qdrant-client) (1.0.2)\n",
      "Requirement already satisfied: idna in /opt/conda/lib/python3.10/site-packages (from httpx[http2]>=0.14.0->qdrant-client) (3.4)\n",
      "Requirement already satisfied: anyio in /opt/conda/lib/python3.10/site-packages (from httpx[http2]>=0.14.0->qdrant-client) (3.6.2)\n",
      "Requirement already satisfied: h2<5,>=3 in /opt/conda/lib/python3.10/site-packages (from httpx[http2]>=0.14.0->qdrant-client) (4.1.0)\n",
      "Requirement already satisfied: pyyaml>=5.1 in /opt/conda/lib/python3.10/site-packages (from huggingface-hub>=0.4.0->sentence-transformers) (6.0)\n",
      "Requirement already satisfied: fsspec in /opt/conda/lib/python3.10/site-packages (from huggingface-hub>=0.4.0->sentence-transformers) (2023.10.0)\n",
      "Requirement already satisfied: typing-extensions>=3.7.4.3 in /opt/conda/lib/python3.10/site-packages (from huggingface-hub>=0.4.0->sentence-transformers) (4.8.0)\n",
      "Requirement already satisfied: packaging>=20.9 in /opt/conda/lib/python3.10/site-packages (from huggingface-hub>=0.4.0->sentence-transformers) (23.0)\n",
      "Requirement already satisfied: filelock in /opt/conda/lib/python3.10/site-packages (from huggingface-hub>=0.4.0->sentence-transformers) (3.13.1)\n",
      "Requirement already satisfied: MarkupSafe>=2.0 in /opt/conda/lib/python3.10/site-packages (from jinja2>=2.9->folium) (2.1.2)\n",
      "Requirement already satisfied: pydantic-core==2.10.1 in /opt/conda/lib/python3.10/site-packages (from pydantic>=1.10.8->qdrant-client) (2.10.1)\n",
      "Requirement already satisfied: annotated-types>=0.4.0 in /opt/conda/lib/python3.10/site-packages (from pydantic>=1.10.8->qdrant-client) (0.6.0)\n",
      "Requirement already satisfied: tokenizers<0.15,>=0.14 in /opt/conda/lib/python3.10/site-packages (from transformers<5.0.0,>=4.6.0->sentence-transformers) (0.14.1)\n",
      "Requirement already satisfied: safetensors>=0.3.1 in /opt/conda/lib/python3.10/site-packages (from transformers<5.0.0,>=4.6.0->sentence-transformers) (0.4.0)\n",
      "Requirement already satisfied: regex!=2019.12.17 in /opt/conda/lib/python3.10/site-packages (from transformers<5.0.0,>=4.6.0->sentence-transformers) (2023.10.3)\n",
      "Requirement already satisfied: joblib in /opt/conda/lib/python3.10/site-packages (from nltk->sentence-transformers) (1.2.0)\n",
      "Requirement already satisfied: click in /opt/conda/lib/python3.10/site-packages (from nltk->sentence-transformers) (8.1.3)\n",
      "Requirement already satisfied: charset-normalizer<4,>=2 in /opt/conda/lib/python3.10/site-packages (from requests->folium) (3.1.0)\n",
      "Requirement already satisfied: threadpoolctl>=2.0.0 in /opt/conda/lib/python3.10/site-packages (from scikit-learn->sentence-transformers) (3.1.0)\n",
      "Requirement already satisfied: pillow!=8.3.*,>=5.3.0 in /opt/conda/lib/python3.10/site-packages (from torchvision->sentence-transformers) (9.4.0)\n",
      "Requirement already satisfied: hpack<5,>=4.0 in /opt/conda/lib/python3.10/site-packages (from h2<5,>=3->httpx[http2]>=0.14.0->qdrant-client) (4.0.0)\n",
      "Requirement already satisfied: hyperframe<7,>=6.0 in /opt/conda/lib/python3.10/site-packages (from h2<5,>=3->httpx[http2]>=0.14.0->qdrant-client) (6.0.1)\n",
      "Requirement already satisfied: h11<0.15,>=0.13 in /opt/conda/lib/python3.10/site-packages (from httpcore->httpx[http2]>=0.14.0->qdrant-client) (0.14.0)\n",
      "Installing collected packages: folium\n",
      "Successfully installed folium-0.15.0\n",
      "Note: you may need to restart the kernel to use updated packages.\n"
     ]
    }
   ],
   "source": [
    "%pip install sentence-transformers qdrant-client polars folium"
   ]
  },
  {
   "cell_type": "code",
   "execution_count": 70,
   "metadata": {},
   "outputs": [],
   "source": [
    "from qdrant_client import models, QdrantClient\n",
    "from sentence_transformers import SentenceTransformer\n",
    "import polars as pl\n",
    "import numpy as np"
   ]
  },
  {
   "cell_type": "code",
   "execution_count": 96,
   "metadata": {},
   "outputs": [],
   "source": [
    "encoder = SentenceTransformer(\"all-MiniLM-L6-v2\", device=\"cuda\")"
   ]
  },
  {
   "cell_type": "code",
   "execution_count": 146,
   "metadata": {},
   "outputs": [],
   "source": [
    "def convert(row):\n",
    "    return [\n",
    "        str(row[\"lat\"]),\n",
    "        str(row[\"lon\"]),\n",
    "        row[\"category\"],\n",
    "        row[\"sub_category\"],\n",
    "        row[\"name\"],\n",
    "    ]"
   ]
  },
  {
   "cell_type": "code",
   "execution_count": 147,
   "metadata": {},
   "outputs": [
    {
     "data": {
      "text/html": [
       "<div><style>\n",
       ".dataframe > thead > tr > th,\n",
       ".dataframe > tbody > tr > td {\n",
       "  text-align: right;\n",
       "  white-space: pre-wrap;\n",
       "}\n",
       "</style>\n",
       "<small>shape: (5, 82)</small><table border=\"1\" class=\"dataframe\"><thead><tr><th>id</th><th>lat</th><th>lon</th><th>addr:city</th><th>addr:country</th><th>addr:housenumber</th><th>addr:postcode</th><th>addr:street</th><th>brand</th><th>brand:wikidata</th><th>brand:wikipedia</th><th>cuisine</th><th>description</th><th>drive_through</th><th>name</th><th>note</th><th>operator</th><th>takeaway</th><th>wheelchair</th><th>bicycle</th><th>information</th><th>access</th><th>wikidata</th><th>wikimedia_commons</th><th>wikipedia</th><th>website</th><th>toilets:wheelchair</th><th>alt_name</th><th>check_date</th><th>opening_hours</th><th>changing_table</th><th>contact:phone</th><th>contact:website</th><th>delivery</th><th>diet:vegetarian</th><th>indoor_seating</th><th>internet_access</th><th>&hellip;</th><th>phone</th><th>heritage</th><th>heritage:operator</th><th>image</th><th>man_made</th><th>level</th><th>operator:wikidata</th><th>wifi</th><th>old_name</th><th>seamark:harbour:category</th><th>seamark:name</th><th>seamark:type</th><th>harbour</th><th>highway</th><th>name:fr</th><th>direction</th><th>capacity</th><th>reservation</th><th>smoking</th><th>toilets:access</th><th>backrest</th><th>colour</th><th>material</th><th>seats</th><th>delivery:covid19</th><th>opening_hours:covid19</th><th>takeaway:covid19</th><th>description:covid19</th><th>payment:cash</th><th>payment:maestro</th><th>payment:mastercard</th><th>contact:mobile</th><th>url</th><th>contact:email</th><th>addr:suburb</th><th>sub_category</th><th>category</th></tr><tr><td>i64</td><td>f64</td><td>f64</td><td>str</td><td>str</td><td>str</td><td>str</td><td>str</td><td>str</td><td>str</td><td>str</td><td>str</td><td>str</td><td>str</td><td>str</td><td>str</td><td>str</td><td>str</td><td>str</td><td>str</td><td>str</td><td>str</td><td>str</td><td>str</td><td>str</td><td>str</td><td>str</td><td>str</td><td>str</td><td>str</td><td>str</td><td>str</td><td>str</td><td>str</td><td>str</td><td>str</td><td>str</td><td>&hellip;</td><td>str</td><td>str</td><td>str</td><td>str</td><td>str</td><td>str</td><td>str</td><td>str</td><td>str</td><td>str</td><td>str</td><td>str</td><td>str</td><td>str</td><td>str</td><td>str</td><td>str</td><td>str</td><td>str</td><td>str</td><td>str</td><td>str</td><td>str</td><td>str</td><td>str</td><td>str</td><td>str</td><td>str</td><td>str</td><td>str</td><td>str</td><td>str</td><td>str</td><td>str</td><td>str</td><td>str</td><td>str</td></tr></thead><tbody><tr><td>23656136</td><td>49.858471</td><td>6.3649698</td><td>null</td><td>null</td><td>null</td><td>null</td><td>null</td><td>null</td><td>null</td><td>null</td><td>null</td><td>null</td><td>null</td><td>&quot;Waldsportplatz…</td><td>null</td><td>null</td><td>null</td><td>null</td><td>null</td><td>null</td><td>null</td><td>null</td><td>null</td><td>null</td><td>null</td><td>null</td><td>null</td><td>null</td><td>null</td><td>null</td><td>null</td><td>null</td><td>null</td><td>null</td><td>null</td><td>null</td><td>&hellip;</td><td>null</td><td>null</td><td>null</td><td>null</td><td>null</td><td>null</td><td>null</td><td>null</td><td>null</td><td>null</td><td>null</td><td>null</td><td>null</td><td>null</td><td>null</td><td>null</td><td>null</td><td>null</td><td>null</td><td>null</td><td>null</td><td>null</td><td>null</td><td>null</td><td>null</td><td>null</td><td>null</td><td>null</td><td>null</td><td>null</td><td>null</td><td>null</td><td>null</td><td>null</td><td>null</td><td>&quot;fitness_statio…</td><td>&quot;leisure&quot;</td></tr><tr><td>26860223</td><td>49.743478</td><td>6.0898523</td><td>null</td><td>null</td><td>null</td><td>null</td><td>null</td><td>null</td><td>null</td><td>null</td><td>null</td><td>null</td><td>null</td><td>&quot;Restaurant Cam…</td><td>null</td><td>null</td><td>null</td><td>null</td><td>null</td><td>null</td><td>null</td><td>null</td><td>null</td><td>null</td><td>null</td><td>null</td><td>null</td><td>null</td><td>null</td><td>null</td><td>null</td><td>null</td><td>null</td><td>null</td><td>null</td><td>null</td><td>&hellip;</td><td>null</td><td>null</td><td>null</td><td>null</td><td>null</td><td>null</td><td>null</td><td>null</td><td>null</td><td>null</td><td>null</td><td>null</td><td>null</td><td>null</td><td>null</td><td>null</td><td>null</td><td>null</td><td>null</td><td>null</td><td>null</td><td>null</td><td>null</td><td>null</td><td>null</td><td>null</td><td>null</td><td>null</td><td>null</td><td>null</td><td>null</td><td>null</td><td>null</td><td>null</td><td>null</td><td>&quot;restaurant&quot;</td><td>&quot;amenity&quot;</td></tr><tr><td>30432808</td><td>50.856197</td><td>5.8256972</td><td>null</td><td>null</td><td>null</td><td>null</td><td>null</td><td>null</td><td>null</td><td>null</td><td>null</td><td>null</td><td>null</td><td>&quot;Steenkolenmijn…</td><td>null</td><td>null</td><td>null</td><td>null</td><td>null</td><td>null</td><td>null</td><td>null</td><td>null</td><td>null</td><td>null</td><td>null</td><td>null</td><td>null</td><td>null</td><td>null</td><td>null</td><td>null</td><td>null</td><td>null</td><td>null</td><td>null</td><td>&hellip;</td><td>null</td><td>null</td><td>null</td><td>null</td><td>null</td><td>null</td><td>null</td><td>null</td><td>null</td><td>null</td><td>null</td><td>null</td><td>null</td><td>null</td><td>null</td><td>null</td><td>null</td><td>null</td><td>null</td><td>null</td><td>null</td><td>null</td><td>null</td><td>null</td><td>null</td><td>null</td><td>null</td><td>null</td><td>null</td><td>null</td><td>null</td><td>null</td><td>null</td><td>null</td><td>null</td><td>&quot;attraction&quot;</td><td>&quot;tourism&quot;</td></tr><tr><td>31425173</td><td>50.844029</td><td>5.6890789</td><td>null</td><td>null</td><td>null</td><td>null</td><td>null</td><td>null</td><td>null</td><td>null</td><td>null</td><td>null</td><td>null</td><td>&quot;Nieuwenhofpoor…</td><td>null</td><td>null</td><td>null</td><td>null</td><td>null</td><td>null</td><td>null</td><td>&quot;Q19630871&quot;</td><td>&quot;Category:Nieuw…</td><td>&quot;nl:Nieuwenhofp…</td><td>null</td><td>null</td><td>null</td><td>null</td><td>null</td><td>null</td><td>null</td><td>null</td><td>null</td><td>null</td><td>null</td><td>null</td><td>&hellip;</td><td>null</td><td>null</td><td>null</td><td>null</td><td>null</td><td>null</td><td>null</td><td>null</td><td>null</td><td>null</td><td>null</td><td>null</td><td>null</td><td>null</td><td>null</td><td>null</td><td>null</td><td>null</td><td>null</td><td>null</td><td>null</td><td>null</td><td>null</td><td>null</td><td>null</td><td>null</td><td>null</td><td>null</td><td>null</td><td>null</td><td>null</td><td>null</td><td>null</td><td>null</td><td>null</td><td>&quot;city_gate&quot;</td><td>&quot;historic&quot;</td></tr><tr><td>31575884</td><td>50.844551</td><td>5.6902818</td><td>null</td><td>null</td><td>null</td><td>null</td><td>null</td><td>null</td><td>null</td><td>null</td><td>null</td><td>null</td><td>null</td><td>&quot;Universiteitsb…</td><td>null</td><td>null</td><td>null</td><td>null</td><td>null</td><td>null</td><td>null</td><td>&quot;Q15734302&quot;</td><td>null</td><td>&quot;nl:Universitei…</td><td>&quot;https://librar…</td><td>null</td><td>null</td><td>null</td><td>null</td><td>null</td><td>null</td><td>null</td><td>null</td><td>null</td><td>null</td><td>null</td><td>&hellip;</td><td>null</td><td>null</td><td>null</td><td>null</td><td>null</td><td>null</td><td>null</td><td>null</td><td>null</td><td>null</td><td>null</td><td>null</td><td>null</td><td>null</td><td>null</td><td>null</td><td>null</td><td>null</td><td>null</td><td>null</td><td>null</td><td>null</td><td>null</td><td>null</td><td>null</td><td>null</td><td>null</td><td>null</td><td>null</td><td>null</td><td>null</td><td>null</td><td>null</td><td>null</td><td>null</td><td>&quot;library&quot;</td><td>&quot;amenity&quot;</td></tr></tbody></table></div>"
      ],
      "text/plain": [
       "shape: (5, 82)\n",
       "┌──────────┬───────────┬───────────┬───────────┬───┬────────────┬───────────┬───────────┬──────────┐\n",
       "│ id       ┆ lat       ┆ lon       ┆ addr:city ┆ … ┆ contact:em ┆ addr:subu ┆ sub_categ ┆ category │\n",
       "│ ---      ┆ ---       ┆ ---       ┆ ---       ┆   ┆ ail        ┆ rb        ┆ ory       ┆ ---      │\n",
       "│ i64      ┆ f64       ┆ f64       ┆ str       ┆   ┆ ---        ┆ ---       ┆ ---       ┆ str      │\n",
       "│          ┆           ┆           ┆           ┆   ┆ str        ┆ str       ┆ str       ┆          │\n",
       "╞══════════╪═══════════╪═══════════╪═══════════╪═══╪════════════╪═══════════╪═══════════╪══════════╡\n",
       "│ 23656136 ┆ 49.858471 ┆ 6.3649698 ┆ null      ┆ … ┆ null       ┆ null      ┆ fitness_s ┆ leisure  │\n",
       "│          ┆           ┆           ┆           ┆   ┆            ┆           ┆ tation    ┆          │\n",
       "│ 26860223 ┆ 49.743478 ┆ 6.0898523 ┆ null      ┆ … ┆ null       ┆ null      ┆ restauran ┆ amenity  │\n",
       "│          ┆           ┆           ┆           ┆   ┆            ┆           ┆ t         ┆          │\n",
       "│ 30432808 ┆ 50.856197 ┆ 5.8256972 ┆ null      ┆ … ┆ null       ┆ null      ┆ attractio ┆ tourism  │\n",
       "│          ┆           ┆           ┆           ┆   ┆            ┆           ┆ n         ┆          │\n",
       "│ 31425173 ┆ 50.844029 ┆ 5.6890789 ┆ null      ┆ … ┆ null       ┆ null      ┆ city_gate ┆ historic │\n",
       "│ 31575884 ┆ 50.844551 ┆ 5.6902818 ┆ null      ┆ … ┆ null       ┆ null      ┆ library   ┆ amenity  │\n",
       "└──────────┴───────────┴───────────┴───────────┴───┴────────────┴───────────┴───────────┴──────────┘"
      ]
     },
     "execution_count": 147,
     "metadata": {},
     "output_type": "execute_result"
    }
   ],
   "source": [
    "df_geo = pl.read_parquet(\"../work/poi_clean_category_geo.parquet\")\n",
    "df = df_geo.drop([\"type\", \"geometry\"])\n",
    "df.head()"
   ]
  },
  {
   "cell_type": "code",
   "execution_count": 148,
   "metadata": {},
   "outputs": [
    {
     "data": {
      "application/vnd.jupyter.widget-view+json": {
       "model_id": "7c364844807145bf9fa1c3300007c5c7",
       "version_major": 2,
       "version_minor": 0
      },
      "text/plain": [
       "Batches:   0%|          | 0/248 [00:00<?, ?it/s]"
      ]
     },
     "metadata": {},
     "output_type": "display_data"
    }
   ],
   "source": [
    "vectors = encoder.encode(\n",
    "    [convert(row) for row in df.iter_rows(named=True)],\n",
    "    batch_size=256,\n",
    "    show_progress_bar=True,\n",
    ")"
   ]
  },
  {
   "cell_type": "code",
   "execution_count": 149,
   "metadata": {},
   "outputs": [
    {
     "data": {
      "text/plain": [
       "(63330, 384)"
      ]
     },
     "execution_count": 149,
     "metadata": {},
     "output_type": "execute_result"
    }
   ],
   "source": [
    "vectors.shape"
   ]
  },
  {
   "cell_type": "code",
   "execution_count": 150,
   "metadata": {},
   "outputs": [],
   "source": [
    "np.save(\"poi_vectors.npy\", vectors, allow_pickle=False)"
   ]
  },
  {
   "cell_type": "code",
   "execution_count": 151,
   "metadata": {},
   "outputs": [],
   "source": [
    "qdrant = QdrantClient(\":memory:\")"
   ]
  },
  {
   "cell_type": "code",
   "execution_count": 152,
   "metadata": {},
   "outputs": [
    {
     "data": {
      "text/plain": [
       "True"
      ]
     },
     "execution_count": 152,
     "metadata": {},
     "output_type": "execute_result"
    }
   ],
   "source": [
    "qdrant.recreate_collection(\n",
    "    collection_name=\"poi\",\n",
    "    vectors_config=models.VectorParams(\n",
    "        size=encoder.get_sentence_embedding_dimension(),  # Vector size is defined by used model\n",
    "        distance=models.Distance.COSINE,\n",
    "    ),\n",
    ")"
   ]
  },
  {
   "cell_type": "code",
   "execution_count": 153,
   "metadata": {},
   "outputs": [],
   "source": [
    "def add_loc(row):\n",
    "    row[\"location\"] = {\"lat\": row[\"lat\"], \"lon\": row[\"lon\"]}\n",
    "    return row"
   ]
  },
  {
   "cell_type": "code",
   "execution_count": 154,
   "metadata": {},
   "outputs": [],
   "source": [
    "qdrant.upload_collection(\n",
    "    collection_name=\"poi\",\n",
    "    vectors=vectors,\n",
    "    payload=[add_loc(row) for row in df.to_dicts()],\n",
    "    ids=df[\"id\"].to_list(),\n",
    "    batch_size=256,\n",
    ")"
   ]
  },
  {
   "cell_type": "code",
   "execution_count": 182,
   "metadata": {},
   "outputs": [],
   "source": [
    "class NeuralSearcher:\n",
    "    def __init__(self, collection_name):\n",
    "        self.collection_name = collection_name\n",
    "        # Initialize encoder model\n",
    "        self.model = SentenceTransformer(\"all-MiniLM-L6-v2\", device=\"cuda\")\n",
    "        # initialize Qdrant client\n",
    "        self.qdrant_client = qdrant\n",
    "\n",
    "    def search(self, pos, neg, around):\n",
    "        # Use `vector` for search for closest vectors in the collection\n",
    "        search_result = self.qdrant_client.recommend(\n",
    "            collection_name=self.collection_name,\n",
    "            positive=pos,\n",
    "            negative=neg,\n",
    "            strategy=models.RecommendStrategy.AVERAGE_VECTOR,\n",
    "            query_filter=models.Filter(\n",
    "                must=[\n",
    "                    models.FieldCondition(\n",
    "                        key=\"location\",\n",
    "                        geo_radius=models.GeoRadius(\n",
    "                            center=models.GeoPoint(\n",
    "                                lon=around[1],\n",
    "                                lat=around[0],\n",
    "                            ),\n",
    "                            radius=1000.0,\n",
    "                        ),\n",
    "                    ),\n",
    "                ],\n",
    "                # must_not=[\n",
    "                #     models.FieldCondition(\n",
    "                #         key=\"category\",\n",
    "                #         match=models.MatchValue(\n",
    "                #             value=\"amenity\",\n",
    "                #         ),\n",
    "                #     )\n",
    "                # ],\n",
    "            ),\n",
    "            limit=5,  # 5 the most closest results is enough\n",
    "        )\n",
    "        # `search_result` contains found vector ids with similarity scores along with the stored payload\n",
    "        # In this function you are interested in payload only\n",
    "        payloads = [hit.payload for hit in search_result]\n",
    "        return payloads"
   ]
  },
  {
   "cell_type": "code",
   "execution_count": 183,
   "metadata": {},
   "outputs": [],
   "source": [
    "neural_searcher = NeuralSearcher(collection_name=\"poi\")"
   ]
  },
  {
   "cell_type": "code",
   "execution_count": 190,
   "metadata": {},
   "outputs": [
    {
     "data": {
      "text/html": [
       "<div><style>\n",
       ".dataframe > thead > tr > th,\n",
       ".dataframe > tbody > tr > td {\n",
       "  text-align: right;\n",
       "  white-space: pre-wrap;\n",
       "}\n",
       "</style>\n",
       "<small>shape: (4, 4)</small><table border=\"1\" class=\"dataframe\"><thead><tr><th>id</th><th>name</th><th>category</th><th>sub_category</th></tr><tr><td>i64</td><td>str</td><td>str</td><td>str</td></tr></thead><tbody><tr><td>409005527</td><td>&quot;Le Gros Vélo&quot;</td><td>&quot;amenity&quot;</td><td>&quot;cafe&quot;</td></tr><tr><td>488390305</td><td>&quot;La croix St-Cl…</td><td>&quot;historic&quot;</td><td>&quot;wayside_cross&quot;</td></tr><tr><td>490992842</td><td>&quot;La Roche qui T…</td><td>&quot;tourism&quot;</td><td>&quot;attraction&quot;</td></tr><tr><td>491571270</td><td>&quot;Château du Lav…</td><td>&quot;historic&quot;</td><td>&quot;castle&quot;</td></tr></tbody></table></div>"
      ],
      "text/plain": [
       "shape: (4, 4)\n",
       "┌───────────┬─────────────────────┬──────────┬───────────────┐\n",
       "│ id        ┆ name                ┆ category ┆ sub_category  │\n",
       "│ ---       ┆ ---                 ┆ ---      ┆ ---           │\n",
       "│ i64       ┆ str                 ┆ str      ┆ str           │\n",
       "╞═══════════╪═════════════════════╪══════════╪═══════════════╡\n",
       "│ 409005527 ┆ Le Gros Vélo        ┆ amenity  ┆ cafe          │\n",
       "│ 488390305 ┆ La croix St-Claude  ┆ historic ┆ wayside_cross │\n",
       "│ 490992842 ┆ La Roche qui Tourne ┆ tourism  ┆ attraction    │\n",
       "│ 491571270 ┆ Château du Laval    ┆ historic ┆ castle        │\n",
       "└───────────┴─────────────────────┴──────────┴───────────────┘"
      ]
     },
     "execution_count": 190,
     "metadata": {},
     "output_type": "execute_result"
    }
   ],
   "source": [
    "pos = [409005527, 488390305, 491571270, 490992842]\n",
    "df.select([\"id\", \"name\", \"category\", \"sub_category\"]).filter(pl.col(\"id\").is_in(pos))"
   ]
  },
  {
   "cell_type": "code",
   "execution_count": 191,
   "metadata": {},
   "outputs": [
    {
     "data": {
      "text/html": [
       "<div><style>\n",
       ".dataframe > thead > tr > th,\n",
       ".dataframe > tbody > tr > td {\n",
       "  text-align: right;\n",
       "  white-space: pre-wrap;\n",
       "}\n",
       "</style>\n",
       "<small>shape: (4, 4)</small><table border=\"1\" class=\"dataframe\"><thead><tr><th>id</th><th>name</th><th>category</th><th>sub_category</th></tr><tr><td>i64</td><td>str</td><td>str</td><td>str</td></tr></thead><tbody><tr><td>494911196</td><td>&quot;FrietJess&quot;</td><td>&quot;amenity&quot;</td><td>&quot;fast_food&quot;</td></tr><tr><td>494911197</td><td>&quot;Pizza Plaza&quot;</td><td>&quot;amenity&quot;</td><td>&quot;restaurant&quot;</td></tr><tr><td>498293266</td><td>&quot;Frit city juni…</td><td>&quot;amenity&quot;</td><td>&quot;fast_food&quot;</td></tr><tr><td>516617417</td><td>&quot;Pizza Hut&quot;</td><td>&quot;amenity&quot;</td><td>&quot;restaurant&quot;</td></tr></tbody></table></div>"
      ],
      "text/plain": [
       "shape: (4, 4)\n",
       "┌───────────┬──────────────────┬──────────┬──────────────┐\n",
       "│ id        ┆ name             ┆ category ┆ sub_category │\n",
       "│ ---       ┆ ---              ┆ ---      ┆ ---          │\n",
       "│ i64       ┆ str              ┆ str      ┆ str          │\n",
       "╞═══════════╪══════════════════╪══════════╪══════════════╡\n",
       "│ 494911196 ┆ FrietJess        ┆ amenity  ┆ fast_food    │\n",
       "│ 494911197 ┆ Pizza Plaza      ┆ amenity  ┆ restaurant   │\n",
       "│ 498293266 ┆ Frit city junior ┆ amenity  ┆ fast_food    │\n",
       "│ 516617417 ┆ Pizza Hut        ┆ amenity  ┆ restaurant   │\n",
       "└───────────┴──────────────────┴──────────┴──────────────┘"
      ]
     },
     "execution_count": 191,
     "metadata": {},
     "output_type": "execute_result"
    }
   ],
   "source": [
    "neg = [494911197, 498293266, 494911196, 516617417]\n",
    "df.select([\"id\", \"name\", \"category\", \"sub_category\"]).filter(pl.col(\"id\").is_in(neg))"
   ]
  },
  {
   "cell_type": "code",
   "execution_count": 193,
   "metadata": {},
   "outputs": [
    {
     "data": {
      "text/plain": [
       "5"
      ]
     },
     "execution_count": 193,
     "metadata": {},
     "output_type": "execute_result"
    }
   ],
   "source": [
    "items = neural_searcher.search(\n",
    "    pos=pos,\n",
    "    neg=neg,\n",
    "    around=[50.467388, 4.871985],\n",
    ")\n",
    "[\n",
    "    [\n",
    "        item[\"id\"],\n",
    "        item[\"name\"],\n",
    "        item[\"lat\"],\n",
    "        item[\"lon\"],\n",
    "        item[\"category\"],\n",
    "        item[\"sub_category\"],\n",
    "    ]\n",
    "    for item in items\n",
    "]\n",
    "len(items)"
   ]
  },
  {
   "cell_type": "code",
   "execution_count": 185,
   "metadata": {},
   "outputs": [
    {
     "data": {
      "text/html": [
       "<div style=\"width:100%;\"><div style=\"position:relative;width:100%;height:0;padding-bottom:60%;\"><span style=\"color:#565656\">Make this Notebook Trusted to load map: File -> Trust Notebook</span><iframe srcdoc=\"&lt;!DOCTYPE html&gt;\n",
       "&lt;html&gt;\n",
       "&lt;head&gt;\n",
       "    \n",
       "    &lt;meta http-equiv=&quot;content-type&quot; content=&quot;text/html; charset=UTF-8&quot; /&gt;\n",
       "    \n",
       "        &lt;script&gt;\n",
       "            L_NO_TOUCH = false;\n",
       "            L_DISABLE_3D = false;\n",
       "        &lt;/script&gt;\n",
       "    \n",
       "    &lt;style&gt;html, body {width: 100%;height: 100%;margin: 0;padding: 0;}&lt;/style&gt;\n",
       "    &lt;style&gt;#map {position:absolute;top:0;bottom:0;right:0;left:0;}&lt;/style&gt;\n",
       "    &lt;script src=&quot;https://cdn.jsdelivr.net/npm/leaflet@1.9.3/dist/leaflet.js&quot;&gt;&lt;/script&gt;\n",
       "    &lt;script src=&quot;https://code.jquery.com/jquery-3.7.1.min.js&quot;&gt;&lt;/script&gt;\n",
       "    &lt;script src=&quot;https://cdn.jsdelivr.net/npm/bootstrap@5.2.2/dist/js/bootstrap.bundle.min.js&quot;&gt;&lt;/script&gt;\n",
       "    &lt;script src=&quot;https://cdnjs.cloudflare.com/ajax/libs/Leaflet.awesome-markers/2.0.2/leaflet.awesome-markers.js&quot;&gt;&lt;/script&gt;\n",
       "    &lt;link rel=&quot;stylesheet&quot; href=&quot;https://cdn.jsdelivr.net/npm/leaflet@1.9.3/dist/leaflet.css&quot;/&gt;\n",
       "    &lt;link rel=&quot;stylesheet&quot; href=&quot;https://cdn.jsdelivr.net/npm/bootstrap@5.2.2/dist/css/bootstrap.min.css&quot;/&gt;\n",
       "    &lt;link rel=&quot;stylesheet&quot; href=&quot;https://netdna.bootstrapcdn.com/bootstrap/3.0.0/css/bootstrap.min.css&quot;/&gt;\n",
       "    &lt;link rel=&quot;stylesheet&quot; href=&quot;https://cdn.jsdelivr.net/npm/@fortawesome/fontawesome-free@6.2.0/css/all.min.css&quot;/&gt;\n",
       "    &lt;link rel=&quot;stylesheet&quot; href=&quot;https://cdnjs.cloudflare.com/ajax/libs/Leaflet.awesome-markers/2.0.2/leaflet.awesome-markers.css&quot;/&gt;\n",
       "    &lt;link rel=&quot;stylesheet&quot; href=&quot;https://cdn.jsdelivr.net/gh/python-visualization/folium/folium/templates/leaflet.awesome.rotate.min.css&quot;/&gt;\n",
       "    \n",
       "            &lt;meta name=&quot;viewport&quot; content=&quot;width=device-width,\n",
       "                initial-scale=1.0, maximum-scale=1.0, user-scalable=no&quot; /&gt;\n",
       "            &lt;style&gt;\n",
       "                #map_d043ca07b398482600c3b11a71c7cf1d {\n",
       "                    position: relative;\n",
       "                    width: 100.0%;\n",
       "                    height: 100.0%;\n",
       "                    left: 0.0%;\n",
       "                    top: 0.0%;\n",
       "                }\n",
       "                .leaflet-container { font-size: 1rem; }\n",
       "            &lt;/style&gt;\n",
       "        \n",
       "&lt;/head&gt;\n",
       "&lt;body&gt;\n",
       "    \n",
       "    \n",
       "            &lt;div class=&quot;folium-map&quot; id=&quot;map_d043ca07b398482600c3b11a71c7cf1d&quot; &gt;&lt;/div&gt;\n",
       "        \n",
       "&lt;/body&gt;\n",
       "&lt;script&gt;\n",
       "    \n",
       "    \n",
       "            var map_d043ca07b398482600c3b11a71c7cf1d = L.map(\n",
       "                &quot;map_d043ca07b398482600c3b11a71c7cf1d&quot;,\n",
       "                {\n",
       "                    center: [50.4672164, 4.8592783],\n",
       "                    crs: L.CRS.EPSG3857,\n",
       "                    zoom: 15,\n",
       "                    zoomControl: true,\n",
       "                    preferCanvas: false,\n",
       "                }\n",
       "            );\n",
       "\n",
       "            \n",
       "\n",
       "        \n",
       "    \n",
       "            var tile_layer_ce2cc06ede491dc6ad7a3c152a5ef1fa = L.tileLayer(\n",
       "                &quot;https://{s}.tile.openstreetmap.org/{z}/{x}/{y}.png&quot;,\n",
       "                {&quot;attribution&quot;: &quot;Data by \\u0026copy; \\u003ca target=\\&quot;_blank\\&quot; href=\\&quot;http://openstreetmap.org\\&quot;\\u003eOpenStreetMap\\u003c/a\\u003e, under \\u003ca target=\\&quot;_blank\\&quot; href=\\&quot;http://www.openstreetmap.org/copyright\\&quot;\\u003eODbL\\u003c/a\\u003e.&quot;, &quot;detectRetina&quot;: false, &quot;maxNativeZoom&quot;: 18, &quot;maxZoom&quot;: 18, &quot;minZoom&quot;: 0, &quot;noWrap&quot;: false, &quot;opacity&quot;: 1, &quot;subdomains&quot;: &quot;abc&quot;, &quot;tms&quot;: false}\n",
       "            );\n",
       "        \n",
       "    \n",
       "                tile_layer_ce2cc06ede491dc6ad7a3c152a5ef1fa.addTo(map_d043ca07b398482600c3b11a71c7cf1d);\n",
       "    \n",
       "            var marker_29dc4f1cddc145eb4c0b9e3986a93380 = L.marker(\n",
       "                [50.4672164, 4.8592783],\n",
       "                {}\n",
       "            ).addTo(map_d043ca07b398482600c3b11a71c7cf1d);\n",
       "        \n",
       "    \n",
       "        var popup_c6d148f05c3df0d0b355ec4d56ef5c2a = L.popup({&quot;maxWidth&quot;: &quot;100%&quot;});\n",
       "\n",
       "        \n",
       "            \n",
       "                var html_8e256414eb32d0cae4233d3882239734 = $(`&lt;div id=&quot;html_8e256414eb32d0cae4233d3882239734&quot; style=&quot;width: 100.0%; height: 100.0%;&quot;&gt;10922394383 Pasta Liza&lt;/div&gt;`)[0];\n",
       "                popup_c6d148f05c3df0d0b355ec4d56ef5c2a.setContent(html_8e256414eb32d0cae4233d3882239734);\n",
       "            \n",
       "        \n",
       "\n",
       "        marker_29dc4f1cddc145eb4c0b9e3986a93380.bindPopup(popup_c6d148f05c3df0d0b355ec4d56ef5c2a)\n",
       "        ;\n",
       "\n",
       "        \n",
       "    \n",
       "    \n",
       "            var marker_f9bc0ac7cdab003d76aa186b49745bf7 = L.marker(\n",
       "                [50.4702701, 4.8649146],\n",
       "                {}\n",
       "            ).addTo(map_d043ca07b398482600c3b11a71c7cf1d);\n",
       "        \n",
       "    \n",
       "        var popup_d892823a0eae29d7004d82b5a05e99c1 = L.popup({&quot;maxWidth&quot;: &quot;100%&quot;});\n",
       "\n",
       "        \n",
       "            \n",
       "                var html_be9362af5be37f71ada5fbc738d0ff49 = $(`&lt;div id=&quot;html_be9362af5be37f71ada5fbc738d0ff49&quot; style=&quot;width: 100.0%; height: 100.0%;&quot;&gt;9789606955 Balkan grill&lt;/div&gt;`)[0];\n",
       "                popup_d892823a0eae29d7004d82b5a05e99c1.setContent(html_be9362af5be37f71ada5fbc738d0ff49);\n",
       "            \n",
       "        \n",
       "\n",
       "        marker_f9bc0ac7cdab003d76aa186b49745bf7.bindPopup(popup_d892823a0eae29d7004d82b5a05e99c1)\n",
       "        ;\n",
       "\n",
       "        \n",
       "    \n",
       "    \n",
       "            var marker_a9122ab391cb86a2ac61f7d625ec3f96 = L.marker(\n",
       "                [50.4632865, 4.8646586],\n",
       "                {}\n",
       "            ).addTo(map_d043ca07b398482600c3b11a71c7cf1d);\n",
       "        \n",
       "    \n",
       "        var popup_8b82e77049d7344a354f9b19df4ed223 = L.popup({&quot;maxWidth&quot;: &quot;100%&quot;});\n",
       "\n",
       "        \n",
       "            \n",
       "                var html_6e2487d3f5fb2bdf32f31ee8ebf86aa7 = $(`&lt;div id=&quot;html_6e2487d3f5fb2bdf32f31ee8ebf86aa7&quot; style=&quot;width: 100.0%; height: 100.0%;&quot;&gt;1812473011 Jack a dit&lt;/div&gt;`)[0];\n",
       "                popup_8b82e77049d7344a354f9b19df4ed223.setContent(html_6e2487d3f5fb2bdf32f31ee8ebf86aa7);\n",
       "            \n",
       "        \n",
       "\n",
       "        marker_a9122ab391cb86a2ac61f7d625ec3f96.bindPopup(popup_8b82e77049d7344a354f9b19df4ed223)\n",
       "        ;\n",
       "\n",
       "        \n",
       "    \n",
       "    \n",
       "            var marker_e1bf1a80dc601363e4b13df2f2dd827a = L.marker(\n",
       "                [50.4660624, 4.8649878],\n",
       "                {}\n",
       "            ).addTo(map_d043ca07b398482600c3b11a71c7cf1d);\n",
       "        \n",
       "    \n",
       "        var popup_c6f48beab6997a5f1c16ac8638bd775b = L.popup({&quot;maxWidth&quot;: &quot;100%&quot;});\n",
       "\n",
       "        \n",
       "            \n",
       "                var html_ec7c1eff4fbebef273ea5fd44d1a64fc = $(`&lt;div id=&quot;html_ec7c1eff4fbebef273ea5fd44d1a64fc&quot; style=&quot;width: 100.0%; height: 100.0%;&quot;&gt;1187583605 Dell&#x27;I Pasta&lt;/div&gt;`)[0];\n",
       "                popup_c6f48beab6997a5f1c16ac8638bd775b.setContent(html_ec7c1eff4fbebef273ea5fd44d1a64fc);\n",
       "            \n",
       "        \n",
       "\n",
       "        marker_e1bf1a80dc601363e4b13df2f2dd827a.bindPopup(popup_c6f48beab6997a5f1c16ac8638bd775b)\n",
       "        ;\n",
       "\n",
       "        \n",
       "    \n",
       "    \n",
       "            var marker_7d7417a9459de1b0aabaf57efec02175 = L.marker(\n",
       "                [50.4681464, 4.8656906],\n",
       "                {}\n",
       "            ).addTo(map_d043ca07b398482600c3b11a71c7cf1d);\n",
       "        \n",
       "    \n",
       "        var popup_8129fef53d9dd812d8269915e1d6da9e = L.popup({&quot;maxWidth&quot;: &quot;100%&quot;});\n",
       "\n",
       "        \n",
       "            \n",
       "                var html_1dd057fe42a80971eda055281ef56c06 = $(`&lt;div id=&quot;html_1dd057fe42a80971eda055281ef56c06&quot; style=&quot;width: 100.0%; height: 100.0%;&quot;&gt;8026432773 FNTDR Aux déportés et réfractaires&lt;/div&gt;`)[0];\n",
       "                popup_8129fef53d9dd812d8269915e1d6da9e.setContent(html_1dd057fe42a80971eda055281ef56c06);\n",
       "            \n",
       "        \n",
       "\n",
       "        marker_7d7417a9459de1b0aabaf57efec02175.bindPopup(popup_8129fef53d9dd812d8269915e1d6da9e)\n",
       "        ;\n",
       "\n",
       "        \n",
       "    \n",
       "&lt;/script&gt;\n",
       "&lt;/html&gt;\" style=\"position:absolute;width:100%;height:100%;left:0;top:0;border:none !important;\" allowfullscreen webkitallowfullscreen mozallowfullscreen></iframe></div></div>"
      ],
      "text/plain": [
       "<folium.folium.Map at 0x7f5f98e03b20>"
      ]
     },
     "execution_count": 185,
     "metadata": {},
     "output_type": "execute_result"
    }
   ],
   "source": [
    "import folium\n",
    "\n",
    "# create a map centered on the item's location\n",
    "m = folium.Map(location=[items[0][\"lat\"], items[0][\"lon\"]], zoom_start=15)\n",
    "\n",
    "# add a marker for the item's location\n",
    "for item in items:\n",
    "    folium.Marker(\n",
    "        location=[item[\"lat\"], item[\"lon\"]], popup=str(item[\"id\"]) + \" \" + item[\"name\"]\n",
    "    ).add_to(m)\n",
    "\n",
    "# display the map\n",
    "m"
   ]
  }
 ],
 "metadata": {
  "kernelspec": {
   "display_name": "Python 3 (ipykernel)",
   "language": "python",
   "name": "python3"
  }
 },
 "nbformat": 4,
 "nbformat_minor": 2
}
